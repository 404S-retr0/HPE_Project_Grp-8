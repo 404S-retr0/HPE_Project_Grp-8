{
  "cells": [
    {
      "cell_type": "code",
      "source": [
        "import numpy as np\r\n",
        "import re\r\n",
        "import numpy as np\r\n",
        "import pandas as pd\r\n",
        "global alphabet\r\n",
        "global maxlen\r\n",
        "global N_LANG\r\n",
        "N_LANG=10\r\n",
        "maxlen=13 #max word lenght 13\r\n",
        "alphabet = \"abcdefghijklmnopqrstuvwxyzíóéáñúüäßöàèêçôùîûâìòźåãõíłęążśćńøæ\" #61 different character found in 10 European different Language\r\n",
        "def one_hot_encode(data):\r\n",
        "  char_to_int = dict((c, i) for i, c in enumerate(alphabet))\r\n",
        "  integer_encoded = [char_to_int[char] for char in data]\r\n",
        "  onehot_encoded = []\r\n",
        "  for value in integer_encoded:\r\n",
        "    letter = np.zeros(len(alphabet))\r\n",
        "    letter[value] = 1\r\n",
        "    onehot_encoded.append(letter)\r\n",
        "  while(len(onehot_encoded)<maxlen):\r\n",
        "    letter = np.zeros(len(alphabet))\r\n",
        "    onehot_encoded.append(letter)\r\n",
        "  return  np.array(onehot_encoded)\r\n",
        "\r\n",
        "def encode_labels(label):\r\n",
        "  temp = np.zeros(N_LANG)\r\n",
        "  temp[label-1] = 1\r\n",
        "  return temp\r\n",
        "\r\n",
        "def process(test_str):\r\n",
        "  test_str=test_str.lower()\r\n",
        "  test_str = re.sub(r'[^a-zA-Z ]', '', test_str)\r\n",
        "  return test_str"
      ],
      "outputs": [],
      "execution_count": 1,
      "metadata": {
        "gather": {
          "logged": 1612801902086
        }
      }
    },
    {
      "cell_type": "code",
      "source": [
        "x=[]\r\n",
        "y=[]\r\n",
        "df=pd.read_csv('https://github.com/404S-retr0/HPE_Project_Grp-8/blob/main/Data_Wordlists.csv?raw=true')\r\n",
        "for word,lang in zip(df.WORDS,df.LANGAUAGE_VECTOR):\r\n",
        "    if(pd.isna(word)):\r\n",
        "      continue\r\n",
        "    if(len(word)<=maxlen):\r\n",
        "      x.append(one_hot_encode(process(word)))\r\n",
        "      y.append(encode_labels(int(lang)))\r\n",
        "x=np.array(x)\r\n",
        "print(x.shape)\r\n",
        "y=np.array(y)\r\n",
        "print(y.shape)"
      ],
      "outputs": [
        {
          "output_type": "stream",
          "name": "stdout",
          "text": [
            "(905779, 13, 61)\n",
            "(905779, 10)\n"
          ]
        }
      ],
      "execution_count": 2,
      "metadata": {
        "collapsed": true,
        "jupyter": {
          "source_hidden": false,
          "outputs_hidden": false
        },
        "nteract": {
          "transient": {
            "deleting": false
          }
        },
        "gather": {
          "logged": 1612801945861
        }
      }
    },
    {
      "cell_type": "code",
      "source": [
        "from sklearn.model_selection import train_test_split\r\n",
        "from keras.models import Sequential\r\n",
        "from keras.layers import Dense,Flatten\r\n",
        "from keras.callbacks import ModelCheckpoint, TensorBoard\r\n",
        "from tensorflow.keras import regularizers"
      ],
      "outputs": [],
      "execution_count": 26,
      "metadata": {
        "collapsed": true,
        "jupyter": {
          "source_hidden": false,
          "outputs_hidden": false
        },
        "nteract": {
          "transient": {
            "deleting": false
          }
        },
        "gather": {
          "logged": 1612805408771
        }
      }
    },
    {
      "cell_type": "code",
      "source": [
        "x_train,x_test,y_train,y_test=train_test_split(x,y,test_size=0.1,random_state=1)\r\n",
        "network = Sequential()\r\n",
        "network.add(Flatten())\r\n",
        "network.add(Dense(400, input_dim=61*maxlen, activation='sigmoid'))\r\n",
        "network.add(Dense(300, activation='sigmoid'))\r\n",
        "network.add(Dense(200, activation='sigmoid'))\r\n",
        "network.add(Dense(100, activation='sigmoid'))\r\n",
        "network.add(Dense(N_LANG, activation='softmax'))\r\n",
        "network.compile(loss='binary_crossentropy', optimizer='adam', metrics=['accuracy'])"
      ],
      "outputs": [],
      "execution_count": 52,
      "metadata": {
        "collapsed": true,
        "jupyter": {
          "source_hidden": false,
          "outputs_hidden": false
        },
        "nteract": {
          "transient": {
            "deleting": false
          }
        },
        "gather": {
          "logged": 1612813138458
        }
      }
    },
    {
      "cell_type": "code",
      "source": [
        "filepath = \"weights.hdf5\"\r\n",
        "checkpoint = ModelCheckpoint(filepath, monitor='val_accuracy', verbose=1, save_best_only=True, mode='max')\r\n",
        "tboard = TensorBoard(log_dir='./logs', write_graph=True, write_images=True)\r\n",
        "callbacks_list = [checkpoint, tboard]\r\n",
        "history=network.fit(x_train,y_train, epochs=100, batch_size=500, validation_data=(x_test,y_test),callbacks=callbacks_list,verbose=0)"
      ],
      "outputs": [
        {
          "output_type": "stream",
          "name": "stdout",
          "text": [
            "\n",
            "Epoch 00001: val_accuracy improved from -inf to 0.91702, saving model to weights.hdf5\n",
            "\n",
            "Epoch 00002: val_accuracy improved from 0.91702 to 0.91853, saving model to weights.hdf5\n",
            "\n",
            "Epoch 00003: val_accuracy improved from 0.91853 to 0.91941, saving model to weights.hdf5\n",
            "\n",
            "Epoch 00004: val_accuracy improved from 0.91941 to 0.92062, saving model to weights.hdf5\n",
            "\n",
            "Epoch 00005: val_accuracy improved from 0.92062 to 0.92155, saving model to weights.hdf5\n",
            "\n",
            "Epoch 00006: val_accuracy improved from 0.92155 to 0.92233, saving model to weights.hdf5\n",
            "\n",
            "Epoch 00007: val_accuracy improved from 0.92233 to 0.92263, saving model to weights.hdf5\n",
            "\n",
            "Epoch 00008: val_accuracy improved from 0.92263 to 0.92377, saving model to weights.hdf5\n",
            "\n",
            "Epoch 00009: val_accuracy improved from 0.92377 to 0.92455, saving model to weights.hdf5\n",
            "\n",
            "Epoch 00010: val_accuracy improved from 0.92455 to 0.92464, saving model to weights.hdf5\n",
            "\n",
            "Epoch 00011: val_accuracy improved from 0.92464 to 0.92538, saving model to weights.hdf5\n",
            "\n",
            "Epoch 00012: val_accuracy improved from 0.92538 to 0.92606, saving model to weights.hdf5\n",
            "\n",
            "Epoch 00013: val_accuracy improved from 0.92606 to 0.92637, saving model to weights.hdf5\n",
            "\n",
            "Epoch 00014: val_accuracy improved from 0.92637 to 0.92653, saving model to weights.hdf5\n",
            "\n",
            "Epoch 00015: val_accuracy improved from 0.92653 to 0.92686, saving model to weights.hdf5\n",
            "\n",
            "Epoch 00016: val_accuracy improved from 0.92686 to 0.92732, saving model to weights.hdf5\n",
            "\n",
            "Epoch 00017: val_accuracy improved from 0.92732 to 0.92752, saving model to weights.hdf5\n",
            "\n",
            "Epoch 00018: val_accuracy improved from 0.92752 to 0.92775, saving model to weights.hdf5\n",
            "\n",
            "Epoch 00019: val_accuracy improved from 0.92775 to 0.92826, saving model to weights.hdf5\n",
            "\n",
            "Epoch 00020: val_accuracy did not improve from 0.92826\n",
            "\n",
            "Epoch 00021: val_accuracy improved from 0.92826 to 0.92848, saving model to weights.hdf5\n",
            "\n",
            "Epoch 00022: val_accuracy improved from 0.92848 to 0.92874, saving model to weights.hdf5\n",
            "\n",
            "Epoch 00023: val_accuracy improved from 0.92874 to 0.92888, saving model to weights.hdf5\n",
            "\n",
            "Epoch 00024: val_accuracy did not improve from 0.92888\n",
            "\n",
            "Epoch 00025: val_accuracy improved from 0.92888 to 0.92908, saving model to weights.hdf5\n",
            "\n",
            "Epoch 00026: val_accuracy improved from 0.92908 to 0.92943, saving model to weights.hdf5\n",
            "\n",
            "Epoch 00027: val_accuracy did not improve from 0.92943\n",
            "\n",
            "Epoch 00028: val_accuracy improved from 0.92943 to 0.92945, saving model to weights.hdf5\n",
            "\n",
            "Epoch 00029: val_accuracy improved from 0.92945 to 0.92966, saving model to weights.hdf5\n",
            "\n",
            "Epoch 00030: val_accuracy did not improve from 0.92966\n",
            "\n",
            "Epoch 00031: val_accuracy improved from 0.92966 to 0.92990, saving model to weights.hdf5\n",
            "\n",
            "Epoch 00032: val_accuracy improved from 0.92990 to 0.92994, saving model to weights.hdf5\n",
            "\n",
            "Epoch 00033: val_accuracy did not improve from 0.92994\n",
            "\n",
            "Epoch 00034: val_accuracy improved from 0.92994 to 0.92997, saving model to weights.hdf5\n",
            "\n",
            "Epoch 00035: val_accuracy did not improve from 0.92997\n",
            "\n",
            "Epoch 00036: val_accuracy did not improve from 0.92997\n",
            "\n",
            "Epoch 00037: val_accuracy did not improve from 0.92997\n",
            "\n",
            "Epoch 00038: val_accuracy improved from 0.92997 to 0.93005, saving model to weights.hdf5\n",
            "\n",
            "Epoch 00039: val_accuracy did not improve from 0.93005\n",
            "\n",
            "Epoch 00040: val_accuracy did not improve from 0.93005\n",
            "\n",
            "Epoch 00041: val_accuracy improved from 0.93005 to 0.93029, saving model to weights.hdf5\n",
            "\n",
            "Epoch 00042: val_accuracy did not improve from 0.93029\n",
            "\n",
            "Epoch 00043: val_accuracy did not improve from 0.93029\n",
            "\n",
            "Epoch 00044: val_accuracy did not improve from 0.93029\n",
            "\n",
            "Epoch 00045: val_accuracy did not improve from 0.93029\n",
            "\n",
            "Epoch 00046: val_accuracy did not improve from 0.93029\n",
            "\n",
            "Epoch 00047: val_accuracy did not improve from 0.93029\n",
            "\n",
            "Epoch 00048: val_accuracy did not improve from 0.93029\n",
            "\n",
            "Epoch 00049: val_accuracy did not improve from 0.93029\n",
            "\n",
            "Epoch 00050: val_accuracy did not improve from 0.93029\n",
            "\n",
            "Epoch 00051: val_accuracy did not improve from 0.93029\n",
            "\n",
            "Epoch 00052: val_accuracy did not improve from 0.93029\n",
            "\n",
            "Epoch 00053: val_accuracy did not improve from 0.93029\n",
            "\n",
            "Epoch 00054: val_accuracy did not improve from 0.93029\n",
            "\n",
            "Epoch 00055: val_accuracy did not improve from 0.93029\n",
            "\n",
            "Epoch 00056: val_accuracy did not improve from 0.93029\n",
            "\n",
            "Epoch 00057: val_accuracy did not improve from 0.93029\n",
            "\n",
            "Epoch 00058: val_accuracy did not improve from 0.93029\n",
            "\n",
            "Epoch 00059: val_accuracy did not improve from 0.93029\n",
            "\n",
            "Epoch 00060: val_accuracy did not improve from 0.93029\n",
            "\n",
            "Epoch 00061: val_accuracy did not improve from 0.93029\n",
            "\n",
            "Epoch 00062: val_accuracy did not improve from 0.93029\n",
            "\n",
            "Epoch 00063: val_accuracy did not improve from 0.93029\n",
            "\n",
            "Epoch 00064: val_accuracy did not improve from 0.93029\n",
            "\n",
            "Epoch 00065: val_accuracy did not improve from 0.93029\n",
            "\n",
            "Epoch 00066: val_accuracy did not improve from 0.93029\n",
            "\n",
            "Epoch 00067: val_accuracy did not improve from 0.93029\n",
            "\n",
            "Epoch 00068: val_accuracy did not improve from 0.93029\n",
            "\n",
            "Epoch 00069: val_accuracy did not improve from 0.93029\n",
            "\n",
            "Epoch 00070: val_accuracy did not improve from 0.93029\n",
            "\n",
            "Epoch 00071: val_accuracy did not improve from 0.93029\n",
            "\n",
            "Epoch 00072: val_accuracy did not improve from 0.93029\n",
            "\n",
            "Epoch 00073: val_accuracy did not improve from 0.93029\n",
            "\n",
            "Epoch 00074: val_accuracy did not improve from 0.93029\n",
            "\n",
            "Epoch 00075: val_accuracy did not improve from 0.93029\n",
            "\n",
            "Epoch 00076: val_accuracy did not improve from 0.93029\n",
            "\n",
            "Epoch 00077: val_accuracy did not improve from 0.93029\n",
            "\n",
            "Epoch 00078: val_accuracy did not improve from 0.93029\n",
            "\n",
            "Epoch 00079: val_accuracy did not improve from 0.93029\n",
            "\n",
            "Epoch 00080: val_accuracy did not improve from 0.93029\n",
            "\n",
            "Epoch 00081: val_accuracy did not improve from 0.93029\n",
            "\n",
            "Epoch 00082: val_accuracy did not improve from 0.93029\n",
            "\n",
            "Epoch 00083: val_accuracy did not improve from 0.93029\n",
            "\n",
            "Epoch 00084: val_accuracy did not improve from 0.93029\n",
            "\n",
            "Epoch 00085: val_accuracy did not improve from 0.93029\n",
            "\n",
            "Epoch 00086: val_accuracy did not improve from 0.93029\n",
            "\n",
            "Epoch 00087: val_accuracy did not improve from 0.93029\n",
            "\n",
            "Epoch 00088: val_accuracy did not improve from 0.93029\n",
            "\n",
            "Epoch 00089: val_accuracy did not improve from 0.93029\n",
            "\n",
            "Epoch 00090: val_accuracy did not improve from 0.93029\n",
            "\n",
            "Epoch 00091: val_accuracy did not improve from 0.93029\n",
            "\n",
            "Epoch 00092: val_accuracy did not improve from 0.93029\n",
            "\n",
            "Epoch 00093: val_accuracy did not improve from 0.93029\n",
            "\n",
            "Epoch 00094: val_accuracy did not improve from 0.93029\n",
            "\n",
            "Epoch 00095: val_accuracy did not improve from 0.93029\n",
            "\n",
            "Epoch 00096: val_accuracy did not improve from 0.93029\n",
            "\n",
            "Epoch 00097: val_accuracy did not improve from 0.93029\n",
            "\n",
            "Epoch 00098: val_accuracy did not improve from 0.93029\n",
            "\n",
            "Epoch 00099: val_accuracy did not improve from 0.93029\n",
            "\n",
            "Epoch 00100: val_accuracy did not improve from 0.93029\n"
          ]
        }
      ],
      "execution_count": 54,
      "metadata": {
        "collapsed": true,
        "jupyter": {
          "source_hidden": false,
          "outputs_hidden": false
        },
        "nteract": {
          "transient": {
            "deleting": false
          }
        },
        "gather": {
          "logged": 1612814718285
        }
      }
    },
    {
      "cell_type": "code",
      "source": [
        "import matplotlib.pyplot as plt\r\n",
        "plt.style.use('ggplot')\r\n",
        "\r\n",
        "def plot_history(history):\r\n",
        "    acc = history.history['accuracy']\r\n",
        "    val_acc = history.history['val_accuracy']\r\n",
        "    loss = history.history['loss']\r\n",
        "    val_loss = history.history['val_loss']\r\n",
        "    x = range(1, len(acc) + 1)\r\n",
        "\r\n",
        "    plt.figure(figsize=(12, 5))\r\n",
        "    plt.subplot(1, 2, 1)\r\n",
        "    plt.plot(x, acc, 'b', label='Training acc')\r\n",
        "    plt.plot(x, val_acc, 'r', label='Validation acc')\r\n",
        "    plt.title('Training and validation accuracy')\r\n",
        "    plt.legend()\r\n",
        "    plt.subplot(1, 2, 2)\r\n",
        "    plt.plot(x, loss, 'b', label='Training loss')\r\n",
        "    plt.plot(x, val_loss, 'r', label='Validation loss')\r\n",
        "    plt.title('Training and validation loss')\r\n",
        "    plt.legend()"
      ],
      "outputs": [],
      "execution_count": 55,
      "metadata": {
        "collapsed": true,
        "jupyter": {
          "source_hidden": false,
          "outputs_hidden": false
        },
        "nteract": {
          "transient": {
            "deleting": false
          }
        },
        "gather": {
          "logged": 1612814722652
        }
      }
    },
    {
      "cell_type": "code",
      "source": [
        "plot_history(history)"
      ],
      "outputs": [
        {
          "output_type": "display_data",
          "data": {
            "text/plain": "<Figure size 864x360 with 2 Axes>",
            "image/png": "[encoded data removed]"
          },
          "metadata": {}
        }
      ],
      "execution_count": 56,
      "metadata": {
        "collapsed": true,
        "jupyter": {
          "source_hidden": false,
          "outputs_hidden": false
        },
        "nteract": {
          "transient": {
            "deleting": false
          }
        },
        "gather": {
          "logged": 1612814727675
        }
      }
    },
    {
      "cell_type": "code",
      "source": [
        "plt.plot(history.history['accuracy'])\r\n",
        "plt.plot(history.history['val_accuracy'])\r\n",
        "plt.title('model accuracy')\r\n",
        "plt.ylabel('accuracy')\r\n",
        "plt.xlabel('epoch')\r\n",
        "plt.legend(['train', 'test'], loc='upper left')\r\n",
        "plt.show()"
      ],
      "outputs": [
        {
          "output_type": "display_data",
          "data": {
            "text/plain": "<Figure size 432x288 with 1 Axes>",
            "image/png": "[encoded data removed]"
          },
          "metadata": {}
        }
      ],
      "execution_count": 57,
      "metadata": {
        "collapsed": true,
        "jupyter": {
          "source_hidden": false,
          "outputs_hidden": false
        },
        "nteract": {
          "transient": {
            "deleting": false
          }
        },
        "gather": {
          "logged": 1612814762062
        }
      }
    },
    {
      "cell_type": "code",
      "source": [
        "def text2list(text):\r\n",
        "  import string\r\n",
        "  import re\r\n",
        "  test_str=text\r\n",
        "  test_str = ''.join([i for i in test_str if not i.isdigit()]) \r\n",
        "  test_str=test_str.lower()\r\n",
        "  punc = '''!()-[]{};:'\"\\,<>./?@#$%^&*_~+-=|`'''\r\n",
        "\r\n",
        "  for ele in test_str:\r\n",
        "    if ele in punc:\r\n",
        "      test_str = test_str.replace(ele, \"\")  \r\n",
        "\r\n",
        "  test_str_split=re.split('\\s+', test_str)\r\n",
        "  \r\n",
        "  if (test_str_split[0]==''):\r\n",
        "    test_str_split.remove('')\r\n",
        "  if (test_str_split[len(test_str_split)-1]==''):\r\n",
        "    test_str_split.remove('')\r\n",
        "\r\n",
        "  return test_str_split"
      ],
      "outputs": [],
      "execution_count": 58,
      "metadata": {
        "collapsed": true,
        "jupyter": {
          "source_hidden": false,
          "outputs_hidden": false
        },
        "nteract": {
          "transient": {
            "deleting": false
          }
        },
        "gather": {
          "logged": 1612814795142
        }
      }
    },
    {
      "cell_type": "code",
      "source": [
        "def lang_detect(text):\r\n",
        "    list_of_word=text2list(text)\r\n",
        "    k=[]\r\n",
        "    for word in list_of_word:\r\n",
        "        k.append(one_hot_encode(process(word)))\r\n",
        "        ans=network.predict(np.array(k))\r\n",
        "    print('Predication of language belonging of each unique word from a sentence\\n')\r\n",
        "    eng=0\r\n",
        "    dan=0\r\n",
        "    dut=0\r\n",
        "    fre=0\r\n",
        "    ger=0\r\n",
        "    ita=0\r\n",
        "    pol=0\r\n",
        "    por=0\r\n",
        "    spa=0\r\n",
        "    swe=0\r\n",
        "    for q in range(len(list_of_word)):\r\n",
        "        eng+=ans[q][0]\r\n",
        "        dan+=ans[q][0]\r\n",
        "        dut=ans[q][0]\r\n",
        "        fre+=ans[q][0]\r\n",
        "        ger+=ans[q][0]\r\n",
        "        ita+=ans[q][0]\r\n",
        "        pol+=ans[q][0]\r\n",
        "        por+=ans[q][0]\r\n",
        "        spa+=ans[q][0]\r\n",
        "        swe+=ans[q][0]\r\n",
        "        each_word=list_of_word[q]\r\n",
        "        print(each_word)\r\n",
        "        report = \"Percentage Distribution\\nEnglish:-{}\\nDanish:-{}\\nDutch:-{}\\nFrench:-{}\\nGerman:-{}\\nItalian:-{}\\nPolish:-{}\\nPortuguese:-{}\\nSpanish:-{}\\nSwedish:-{}\\n\".format(eng,dan,dut,fre,ger,ita,pol,por,spa,swe)\r\n",
        "        print(report)"
      ],
      "outputs": [],
      "execution_count": 59,
      "metadata": {
        "collapsed": true,
        "jupyter": {
          "source_hidden": false,
          "outputs_hidden": false
        },
        "nteract": {
          "transient": {
            "deleting": false
          }
        },
        "gather": {
          "logged": 1612814797993
        }
      }
    },
    {
      "cell_type": "code",
      "source": [
        "lang_detect('hello my name is de')"
      ],
      "outputs": [
        {
          "output_type": "stream",
          "name": "stdout",
          "text": [
            "Predication of language belonging of each unique word from a sentence\n",
            "\n",
            "hello\n",
            "Percentage Distribution\n",
            "English:-0.13138674199581146\n",
            "Danish:-0.13138674199581146\n",
            "Dutch:-0.13138674199581146\n",
            "French:-0.13138674199581146\n",
            "German:-0.13138674199581146\n",
            "Italian:-0.13138674199581146\n",
            "Polish:-0.13138674199581146\n",
            "Portuguese:-0.13138674199581146\n",
            "Spanish:-0.13138674199581146\n",
            "Swedish:-0.13138674199581146\n",
            "\n",
            "my\n",
            "Percentage Distribution\n",
            "English:-0.2670610845088959\n",
            "Danish:-0.2670610845088959\n",
            "Dutch:-0.1356743425130844\n",
            "French:-0.2670610845088959\n",
            "German:-0.2670610845088959\n",
            "Italian:-0.2670610845088959\n",
            "Polish:-0.2670610845088959\n",
            "Portuguese:-0.2670610845088959\n",
            "Spanish:-0.2670610845088959\n",
            "Swedish:-0.2670610845088959\n",
            "\n",
            "name\n",
            "Percentage Distribution\n",
            "English:-0.3974965959787369\n",
            "Danish:-0.3974965959787369\n",
            "Dutch:-0.130435511469841\n",
            "French:-0.3974965959787369\n",
            "German:-0.3974965959787369\n",
            "Italian:-0.3974965959787369\n",
            "Polish:-0.3974965959787369\n",
            "Portuguese:-0.3974965959787369\n",
            "Spanish:-0.3974965959787369\n",
            "Swedish:-0.3974965959787369\n",
            "\n",
            "is\n",
            "Percentage Distribution\n",
            "English:-0.5204020962119102\n",
            "Danish:-0.5204020962119102\n",
            "Dutch:-0.12290550023317337\n",
            "French:-0.5204020962119102\n",
            "German:-0.5204020962119102\n",
            "Italian:-0.5204020962119102\n",
            "Polish:-0.5204020962119102\n",
            "Portuguese:-0.5204020962119102\n",
            "Spanish:-0.5204020962119102\n",
            "Swedish:-0.5204020962119102\n",
            "\n",
            "de\n",
            "Percentage Distribution\n",
            "English:-0.6237897649407387\n",
            "Danish:-0.6237897649407387\n",
            "Dutch:-0.10338766872882843\n",
            "French:-0.6237897649407387\n",
            "German:-0.6237897649407387\n",
            "Italian:-0.6237897649407387\n",
            "Polish:-0.6237897649407387\n",
            "Portuguese:-0.6237897649407387\n",
            "Spanish:-0.6237897649407387\n",
            "Swedish:-0.6237897649407387\n",
            "\n"
          ]
        }
      ],
      "execution_count": 60,
      "metadata": {
        "collapsed": true,
        "jupyter": {
          "source_hidden": false,
          "outputs_hidden": false
        },
        "nteract": {
          "transient": {
            "deleting": false
          }
        },
        "gather": {
          "logged": 1612814801081
        }
      }
    }
  ],
  "metadata": {
    "kernelspec": {
      "name": "python3-azureml",
      "language": "python",
      "display_name": "Python 3.6 - AzureML"
    },
    "language_info": {
      "name": "python",
      "version": "3.6.9",
      "mimetype": "text/x-python",
      "codemirror_mode": {
        "name": "ipython",
        "version": 3
      },
      "pygments_lexer": "ipython3",
      "nbconvert_exporter": "python",
      "file_extension": ".py"
    },
    "kernel_info": {
      "name": "python3-azureml"
    },
    "nteract": {
      "version": "nteract-front-end@1.0.0"
    }
  },
  "nbformat": 4,
  "nbformat_minor": 2
}