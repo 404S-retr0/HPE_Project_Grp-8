{
  "cells": [
    {
      "cell_type": "code",
      "source": [
        "import numpy as np\r\n",
        "import re\r\n",
        "import numpy as np\r\n",
        "import pandas as pd\r\n",
        "global alphabet\r\n",
        "global maxlen\r\n",
        "global N_LANG\r\n",
        "N_LANG=10\r\n",
        "maxlen=13 #max word lenght 13\r\n",
        "alphabet = \"abcdefghijklmnopqrstuvwxyzíóéáñúüäßöàèêçôùîûâìòźåãõíłęążśćńøæ\" #61 different character found in 10 European different Language\r\n",
        "def one_hot_encode(data):\r\n",
        "  char_to_int = dict((c, i) for i, c in enumerate(alphabet))\r\n",
        "  integer_encoded = [char_to_int[char] for char in data]\r\n",
        "  onehot_encoded = []\r\n",
        "  for value in integer_encoded:\r\n",
        "    letter = np.zeros(len(alphabet))\r\n",
        "    letter[value] = 1\r\n",
        "    onehot_encoded.append(letter)\r\n",
        "  while(len(onehot_encoded)<maxlen):\r\n",
        "    letter = np.zeros(len(alphabet))\r\n",
        "    onehot_encoded.append(letter)\r\n",
        "  return  np.array(onehot_encoded)\r\n",
        "\r\n",
        "def encode_labels(label):\r\n",
        "  temp = np.zeros(N_LANG)\r\n",
        "  temp[label-1] = 1\r\n",
        "  return temp\r\n",
        "\r\n",
        "def process(test_str):\r\n",
        "  test_str=test_str.lower()\r\n",
        "  test_str = re.sub(r'[^a-zA-Z ]', '', test_str)\r\n",
        "  return test_str"
      ],
      "outputs": [],
      "execution_count": 1,
      "metadata": {
        "gather": {
          "logged": 1612979159880
        }
      }
    },
    {
      "cell_type": "code",
      "source": [
        "x=[]\r\n",
        "y=[]\r\n",
        "df=pd.read_csv('https://github.com/404S-retr0/HPE_Project_Grp-8/blob/main/Data_Wordlists.csv?raw=true')\r\n",
        "for word,lang in zip(df.WORDS,df.LANGAUAGE_VECTOR):\r\n",
        "    if(pd.isna(word)):\r\n",
        "      continue\r\n",
        "    if(len(word)<=maxlen):\r\n",
        "      x.append(one_hot_encode(process(word)))\r\n",
        "      y.append(encode_labels(int(lang)))\r\n",
        "x=np.array(x)\r\n",
        "print(x.shape)\r\n",
        "y=np.array(y)\r\n",
        "print(y.shape)"
      ],
      "outputs": [
        {
          "output_type": "stream",
          "name": "stdout",
          "text": [
            "(905779, 13, 61)\n",
            "(905779, 10)\n"
          ]
        }
      ],
      "execution_count": 2,
      "metadata": {
        "collapsed": true,
        "jupyter": {
          "source_hidden": false,
          "outputs_hidden": false
        },
        "nteract": {
          "transient": {
            "deleting": false
          }
        },
        "gather": {
          "logged": 1612979266131
        }
      }
    },
    {
      "cell_type": "code",
      "source": [
        "from sklearn.model_selection import train_test_split\r\n",
        "from keras.models import Sequential\r\n",
        "from keras.layers import Dense,Flatten\r\n",
        "from keras.callbacks import ModelCheckpoint, TensorBoard"
      ],
      "outputs": [
        {
          "output_type": "stream",
          "name": "stderr",
          "text": [
            "Using TensorFlow backend.\n"
          ]
        }
      ],
      "execution_count": 3,
      "metadata": {
        "collapsed": true,
        "jupyter": {
          "source_hidden": false,
          "outputs_hidden": false
        },
        "nteract": {
          "transient": {
            "deleting": false
          }
        },
        "gather": {
          "logged": 1612979267353
        }
      }
    },
    {
      "cell_type": "code",
      "source": [
        "x_train,x_test,y_train,y_test=train_test_split(x,y,test_size=0.5)\r\n",
        "network = Sequential()\r\n",
        "network.add(Flatten())\r\n",
        "network.add(Dense(200, input_dim=61*maxlen, activation='sigmoid'))\r\n",
        "network.add(Dense(150, activation='sigmoid'))\r\n",
        "network.add(Dense(100, activation='sigmoid'))\r\n",
        "network.add(Dense(50, activation='sigmoid'))\r\n",
        "network.add(Dense(N_LANG, activation='softmax'))\r\n",
        "network.compile(loss='binary_crossentropy', optimizer='adam', metrics=['accuracy'])"
      ],
      "outputs": [
        {
          "output_type": "stream",
          "name": "stdout",
          "text": [
            "WARNING:tensorflow:From /anaconda/envs/azureml_py36/lib/python3.6/site-packages/tensorflow_core/python/ops/resource_variable_ops.py:1630: calling BaseResourceVariable.__init__ (from tensorflow.python.ops.resource_variable_ops) with constraint is deprecated and will be removed in a future version.\n",
            "Instructions for updating:\n",
            "If using Keras pass *_constraint arguments to layers.\n"
          ]
        }
      ],
      "execution_count": 4,
      "metadata": {
        "collapsed": true,
        "jupyter": {
          "source_hidden": false,
          "outputs_hidden": false
        },
        "nteract": {
          "transient": {
            "deleting": false
          }
        },
        "gather": {
          "logged": 1612979269803
        }
      }
    },
    {
      "cell_type": "code",
      "source": [
        "from keras.callbacks import EarlyStopping\r\n",
        "filepath = \"weights.hdf5\"\r\n",
        "checkpoint = ModelCheckpoint(filepath, monitor='val_acc', verbose=1, save_best_only=True, mode='max')\r\n",
        "tboard = TensorBoard(log_dir='./logs', write_graph=True, write_images=True)\r\n",
        "callbacks_list = [checkpoint, tboard]\r\n",
        "history=network.fit(x_train,y_train, epochs=40, batch_size=500, validation_data=(x_test,y_test),callbacks=callbacks_list,verbose=1)"
      ],
      "outputs": [
        {
          "output_type": "stream",
          "name": "stdout",
          "text": [
            "Train on 452889 samples, validate on 452890 samples\n",
            "Epoch 1/40\n",
            "452889/452889 [==============================] - 7s 15us/step - loss: 0.2051 - accuracy: 0.9260 - val_loss: 0.2146 - val_accuracy: 0.9224\b\b\b\b\b\b\b\b\b\b\b\b\b\b\b\b\b\b\b\b\b\b\b\b\b\b\b\b\b\b\b\b\b\b\b\b\b\b\b\b\b\b\b\b\b\n",
            "Epoch 2/40\n",
            "452889/452889 [==============================] - 7s 15us/step - loss: 0.2043 - accuracy: 0.9263 - val_loss: 0.2131 - val_accuracy: 0.9229\b\b\b\b\b\b\b\b\b\b\b\b\b\b\b\b\b\b\b\b\b\b\b\b\b\b\b\b\b\b\b\b\b\b\b\b\b\b\b\b\b\b\b\b\b\n",
            "Epoch 3/40\n",
            "452889/452889 [==============================] - 7s 15us/step - loss: 0.2037 - accuracy: 0.9266 - val_loss: 0.2139 - val_accuracy: 0.9228\b\b\b\b\b\b\b\b\b\b\b\b\b\b\b\b\b\b\b\b\b\b\b\b\b\b\b\b\b\b\b\b\b\b\b\b\b\b\b\b\b\b\b\b\b\n",
            "Epoch 4/40\n",
            "452889/452889 [==============================] - 7s 15us/step - loss: 0.2030 - accuracy: 0.9268 - val_loss: 0.2119 - val_accuracy: 0.9235\b\b\b\b\b\b\b\b\b\b\b\b\b\b\b\b\b\b\b\b\b\b\b\b\b\b\b\b\b\b\b\b\b\b\b\b\b\b\b\b\b\b\b\b\b\n",
            "Epoch 5/40\n",
            "452889/452889 [==============================] - 7s 15us/step - loss: 0.2021 - accuracy: 0.9272 - val_loss: 0.2121 - val_accuracy: 0.9232\b\b\b\b\b\b\b\b\b\b\b\b\b\b\b\b\b\b\b\b\b\b\b\b\b\b\b\b\b\b\b\b\b\b\b\b\b\b\b\b\b\b\b\b\b\n",
            "Epoch 6/40\n",
            "452889/452889 [==============================] - 7s 15us/step - loss: 0.2015 - accuracy: 0.9274 - val_loss: 0.2132 - val_accuracy: 0.9231\b\b\b\b\b\b\b\b\b\b\b\b\b\b\b\b\b\b\b\b\b\b\b\b\b\b\b\b\b\b\b\b\b\b\b\b\b\b\b\b\b\b\b\b\b\n",
            "Epoch 7/40\n",
            "452889/452889 [==============================] - 7s 15us/step - loss: 0.2007 - accuracy: 0.9277 - val_loss: 0.2127 - val_accuracy: 0.9234\b\b\b\b\b\b\b\b\b\b\b\b\b\b\b\b\b\b\b\b\b\b\b\b\b\b\b\b\b\b\b\b\b\b\b\b\b\b\b\b\b\b\b\b\b\n",
            "Epoch 8/40\n",
            "452889/452889 [==============================] - 7s 15us/step - loss: 0.2001 - accuracy: 0.9279 - val_loss: 0.2111 - val_accuracy: 0.9238\b\b\b\b\b\b\b\b\b\b\b\b\b\b\b\b\b\b\b\b\b\b\b\b\b\b\b\b\b\b\b\b\b\b\b\b\b\b\b\b\b\b\b\b\b\n",
            "Epoch 9/40\n",
            "452889/452889 [==============================] - 7s 16us/step - loss: 0.1994 - accuracy: 0.9282 - val_loss: 0.2109 - val_accuracy: 0.9238\b\b\b\b\b\b\b\b\b\b\b\b\b\b\b\b\b\b\b\b\b\b\b\b\b\b\b\b\b\b\b\b\b\b\b\b\b\b\b\b\b\b\b\b\b\n",
            "Epoch 10/40\n",
            "452889/452889 [==============================] - 7s 15us/step - loss: 0.1989 - accuracy: 0.9284 - val_loss: 0.2105 - val_accuracy: 0.9242\b\b\b\b\b\b\b\b\b\b\b\b\b\b\b\b\b\b\b\b\b\b\b\b\b\b\b\b\b\b\b\b\b\b\b\b\b\b\b\b\b\b\b\b\b\n",
            "Epoch 11/40\n",
            "452889/452889 [==============================] - 7s 15us/step - loss: 0.1983 - accuracy: 0.9286 - val_loss: 0.2106 - val_accuracy: 0.9241\b\b\b\b\b\b\b\b\b\b\b\b\b\b\b\b\b\b\b\b\b\b\b\b\b\b\b\b\b\b\b\b\b\b\b\b\b\b\b\b\b\b\b\b\b\n",
            "Epoch 12/40\n",
            "452889/452889 [==============================] - 7s 15us/step - loss: 0.1977 - accuracy: 0.9289 - val_loss: 0.2120 - val_accuracy: 0.9237\b\b\b\b\b\b\b\b\b\b\b\b\b\b\b\b\b\b\b\b\b\b\b\b\b\b\b\b\b\b\b\b\b\b\b\b\b\b\b\b\b\b\b\b\b\n",
            "Epoch 13/40\n",
            "452889/452889 [==============================] - 7s 16us/step - loss: 0.1972 - accuracy: 0.9290 - val_loss: 0.2101 - val_accuracy: 0.9243\b\b\b\b\b\b\b\b\b\b\b\b\b\b\b\b\b\b\b\b\b\b\b\b\b\b\b\b\b\b\b\b\b\b\b\b\b\b\b\b\b\b\b\b\b\n",
            "Epoch 14/40\n",
            "452889/452889 [==============================] - 7s 15us/step - loss: 0.1966 - accuracy: 0.9293 - val_loss: 0.2120 - val_accuracy: 0.9238\b\b\b\b\b\b\b\b\b\b\b\b\b\b\b\b\b\b\b\b\b\b\b\b\b\b\b\b\b\b\b\b\b\b\b\b\b\b\b\b\b\b\b\b\b\n",
            "Epoch 15/40\n",
            "452889/452889 [==============================] - 7s 15us/step - loss: 0.1961 - accuracy: 0.9295 - val_loss: 0.2102 - val_accuracy: 0.9243\b\b\b\b\b\b\b\b\b\b\b\b\b\b\b\b\b\b\b\b\b\b\b\b\b\b\b\b\b\b\b\b\b\b\b\b\b\b\b\b\b\b\b\b\b\n",
            "Epoch 16/40\n",
            "452889/452889 [==============================] - 7s 15us/step - loss: 0.1955 - accuracy: 0.9297 - val_loss: 0.2095 - val_accuracy: 0.9245\b\b\b\b\b\b\b\b\b\b\b\b\b\b\b\b\b\b\b\b\b\b\b\b\b\b\b\b\b\b\b\b\b\b\b\b\b\b\b\b\b\b\b\b\b\n",
            "Epoch 17/40\n",
            "452889/452889 [==============================] - 7s 15us/step - loss: 0.1950 - accuracy: 0.9299 - val_loss: 0.2102 - val_accuracy: 0.9242\b\b\b\b\b\b\b\b\b\b\b\b\b\b\b\b\b\b\b\b\b\b\b\b\b\b\b\b\b\b\b\b\b\b\b\b\b\b\b\b\b\b\b\b\b\n",
            "Epoch 18/40\n",
            "452889/452889 [==============================] - 7s 15us/step - loss: 0.1945 - accuracy: 0.9301 - val_loss: 0.2097 - val_accuracy: 0.9246\b\b\b\b\b\b\b\b\b\b\b\b\b\b\b\b\b\b\b\b\b\b\b\b\b\b\b\b\b\b\b\b\b\b\b\b\b\b\b\b\b\b\b\b\b\n",
            "Epoch 19/40\n",
            "452889/452889 [==============================] - 7s 15us/step - loss: 0.1941 - accuracy: 0.9303 - val_loss: 0.2104 - val_accuracy: 0.9246\b\b\b\b\b\b\b\b\b\b\b\b\b\b\b\b\b\b\b\b\b\b\b\b\b\b\b\b\b\b\b\b\b\b\b\b\b\b\b\b\b\b\b\b\b\n",
            "Epoch 20/40\n",
            "452889/452889 [==============================] - 7s 15us/step - loss: 0.1936 - accuracy: 0.9305 - val_loss: 0.2099 - val_accuracy: 0.9246\b\b\b\b\b\b\b\b\b\b\b\b\b\b\b\b\b\b\b\b\b\b\b\b\b\b\b\b\b\b\b\b\b\b\b\b\b\b\b\b\b\b\b\b\b\n",
            "Epoch 21/40\n",
            "452889/452889 [==============================] - 7s 15us/step - loss: 0.1932 - accuracy: 0.9307 - val_loss: 0.2094 - val_accuracy: 0.9247\b\b\b\b\b\b\b\b\b\b\b\b\b\b\b\b\b\b\b\b\b\b\b\b\b\b\b\b\b\b\b\b\b\b\b\b\b\b\b\b\b\b\b\b\b\n",
            "Epoch 22/40\n",
            "452889/452889 [==============================] - 7s 15us/step - loss: 0.1928 - accuracy: 0.9308 - val_loss: 0.2096 - val_accuracy: 0.9246\b\b\b\b\b\b\b\b\b\b\b\b\b\b\b\b\b\b\b\b\b\b\b\b\b\b\b\b\b\b\b\b\b\b\b\b\b\b\b\b\b\b\b\b\b\n",
            "Epoch 23/40\n",
            "452889/452889 [==============================] - 7s 15us/step - loss: 0.1923 - accuracy: 0.9310 - val_loss: 0.2093 - val_accuracy: 0.9248\b\b\b\b\b\b\b\b\b\b\b\b\b\b\b\b\b\b\b\b\b\b\b\b\b\b\b\b\b\b\b\b\b\b\b\b\b\b\b\b\b\b\b\b\b\n",
            "Epoch 24/40\n",
            "452889/452889 [==============================] - 7s 15us/step - loss: 0.1918 - accuracy: 0.9312 - val_loss: 0.2112 - val_accuracy: 0.9242\b\b\b\b\b\b\b\b\b\b\b\b\b\b\b\b\b\b\b\b\b\b\b\b\b\b\b\b\b\b\b\b\b\b\b\b\b\b\b\b\b\b\b\b\b\n",
            "Epoch 25/40\n",
            "452889/452889 [==============================] - 7s 15us/step - loss: 0.1914 - accuracy: 0.9314 - val_loss: 0.2097 - val_accuracy: 0.9247\b\b\b\b\b\b\b\b\b\b\b\b\b\b\b\b\b\b\b\b\b\b\b\b\b\b\b\b\b\b\b\b\b\b\b\b\b\b\b\b\b\b\b\b\b\n",
            "Epoch 26/40\n",
            "452889/452889 [==============================] - 7s 15us/step - loss: 0.1909 - accuracy: 0.9316 - val_loss: 0.2101 - val_accuracy: 0.9248\b\b\b\b\b\b\b\b\b\b\b\b\b\b\b\b\b\b\b\b\b\b\b\b\b\b\b\b\b\b\b\b\b\b\b\b\b\b\b\b\b\b\b\b\b\n",
            "Epoch 27/40\n",
            "452889/452889 [==============================] - 7s 15us/step - loss: 0.1906 - accuracy: 0.9317 - val_loss: 0.2117 - val_accuracy: 0.9243\b\b\b\b\b\b\b\b\b\b\b\b\b\b\b\b\b\b\b\b\b\b\b\b\b\b\b\b\b\b\b\b\b\b\b\b\b\b\b\b\b\b\b\b\b\n",
            "Epoch 28/40\n",
            "452889/452889 [==============================] - 7s 16us/step - loss: 0.1902 - accuracy: 0.9318 - val_loss: 0.2099 - val_accuracy: 0.9249\b\b\b\b\b\b\b\b\b\b\b\b\b\b\b\b\b\b\b\b\b\b\b\b\b\b\b\b\b\b\b\b\b\b\b\b\b\b\b\b\b\b\b\b\b\n",
            "Epoch 29/40\n",
            "452889/452889 [==============================] - 7s 15us/step - loss: 0.1898 - accuracy: 0.9320 - val_loss: 0.2108 - val_accuracy: 0.9246\b\b\b\b\b\b\b\b\b\b\b\b\b\b\b\b\b\b\b\b\b\b\b\b\b\b\b\b\b\b\b\b\b\b\b\b\b\b\b\b\b\b\b\b\b\n",
            "Epoch 30/40\n",
            "452889/452889 [==============================] - 7s 15us/step - loss: 0.1894 - accuracy: 0.9321 - val_loss: 0.2101 - val_accuracy: 0.9248\b\b\b\b\b\b\b\b\b\b\b\b\b\b\b\b\b\b\b\b\b\b\b\b\b\b\b\b\b\b\b\b\b\b\b\b\b\b\b\b\b\b\b\b\b\n",
            "Epoch 31/40\n",
            "452889/452889 [==============================] - 7s 15us/step - loss: 0.1890 - accuracy: 0.9324 - val_loss: 0.2104 - val_accuracy: 0.9248\b\b\b\b\b\b\b\b\b\b\b\b\b\b\b\b\b\b\b\b\b\b\b\b\b\b\b\b\b\b\b\b\b\b\b\b\b\b\b\b\b\b\b\b\b\n",
            "Epoch 32/40\n",
            "452889/452889 [==============================] - 7s 16us/step - loss: 0.1886 - accuracy: 0.9325 - val_loss: 0.2099 - val_accuracy: 0.9251\b\b\b\b\b\b\b\b\b\b\b\b\b\b\b\b\b\b\b\b\b\b\b\b\b\b\b\b\b\b\b\b\b\b\b\b\b\b\b\b\b\b\b\b\b\n",
            "Epoch 33/40\n",
            "452889/452889 [==============================] - 7s 15us/step - loss: 0.1884 - accuracy: 0.9326 - val_loss: 0.2111 - val_accuracy: 0.9250\b\b\b\b\b\b\b\b\b\b\b\b\b\b\b\b\b\b\b\b\b\b\b\b\b\b\b\b\b\b\b\b\b\b\b\b\b\b\b\b\b\b\b\b\b\n",
            "Epoch 34/40\n",
            "452889/452889 [==============================] - 7s 15us/step - loss: 0.1880 - accuracy: 0.9328 - val_loss: 0.2104 - val_accuracy: 0.9248\b\b\b\b\b\b\b\b\b\b\b\b\b\b\b\b\b\b\b\b\b\b\b\b\b\b\b\b\b\b\b\b\b\b\b\b\b\b\b\b\b\b\b\b\b\n",
            "Epoch 35/40\n",
            "452889/452889 [==============================] - 7s 15us/step - loss: 0.1875 - accuracy: 0.9330 - val_loss: 0.2106 - val_accuracy: 0.9250\b\b\b\b\b\b\b\b\b\b\b\b\b\b\b\b\b\b\b\b\b\b\b\b\b\b\b\b\b\b\b\b\b\b\b\b\b\b\b\b\b\b\b\b\b\n",
            "Epoch 36/40\n",
            "452889/452889 [==============================] - 7s 15us/step - loss: 0.1873 - accuracy: 0.9331 - val_loss: 0.2100 - val_accuracy: 0.9251\b\b\b\b\b\b\b\b\b\b\b\b\b\b\b\b\b\b\b\b\b\b\b\b\b\b\b\b\b\b\b\b\b\b\b\b\b\b\b\b\b\b\b\b\b\n",
            "Epoch 37/40\n",
            "452889/452889 [==============================] - 7s 15us/step - loss: 0.1869 - accuracy: 0.9332 - val_loss: 0.2099 - val_accuracy: 0.9250\b\b\b\b\b\b\b\b\b\b\b\b\b\b\b\b\b\b\b\b\b\b\b\b\b\b\b\b\b\b\b\b\b\b\b\b\b\b\b\b\b\b\b\b\b\n",
            "Epoch 38/40\n",
            "452889/452889 [==============================] - 7s 15us/step - loss: 0.1865 - accuracy: 0.9335 - val_loss: 0.2106 - val_accuracy: 0.9251\b\b\b\b\b\b\b\b\b\b\b\b\b\b\b\b\b\b\b\b\b\b\b\b\b\b\b\b\b\b\b\b\b\b\b\b\b\b\b\b\b\b\b\b\b\n",
            "Epoch 39/40\n",
            "452889/452889 [==============================] - 7s 15us/step - loss: 0.1863 - accuracy: 0.9334 - val_loss: 0.2107 - val_accuracy: 0.9250\b\b\b\b\b\b\b\b\b\b\b\b\b\b\b\b\b\b\b\b\b\b\b\b\b\b\b\b\b\b\b\b\b\b\b\b\b\b\b\b\b\b\b\b\b\n",
            "Epoch 40/40\n",
            "452889/452889 [==============================] - 7s 15us/step - loss: 0.1859 - accuracy: 0.9336 - val_loss: 0.2104 - val_accuracy: 0.9252\b\b\b\b\b\b\b\b\b\b\b\b\b\b\b\b\b\b\b\b\b\b\b\b\b\b\b\b\b\b\b\b\b\b\b\b\b\b\b\b\b\b\b\b\b\n"
          ]
        }
      ],
      "execution_count": 6,
      "metadata": {
        "collapsed": true,
        "jupyter": {
          "source_hidden": false,
          "outputs_hidden": false
        },
        "nteract": {
          "transient": {
            "deleting": false
          }
        },
        "gather": {
          "logged": 1612979824763
        }
      }
    },
    {
      "cell_type": "code",
      "source": [
        "import matplotlib.pyplot as plt\r\n",
        "plt.style.use('ggplot')\r\n",
        "\r\n",
        "def plot_history(history):\r\n",
        "    acc = history.history['accuracy']\r\n",
        "    val_acc = history.history['val_accuracy']\r\n",
        "    loss = history.history['loss']\r\n",
        "    val_loss = history.history['val_loss']\r\n",
        "    x = range(1, len(acc) + 1)\r\n",
        "\r\n",
        "    plt.figure(figsize=(12, 5))\r\n",
        "    plt.subplot(1, 2, 1)\r\n",
        "    plt.plot(x, acc, 'b', label='Training acc')\r\n",
        "    plt.plot(x, val_acc, 'r', label='Validation acc')\r\n",
        "    plt.title('Training and validation accuracy')\r\n",
        "    plt.legend()\r\n",
        "    plt.subplot(1, 2, 2)\r\n",
        "    plt.plot(x, loss, 'b', label='Training loss')\r\n",
        "    plt.plot(x, val_loss, 'r', label='Validation loss')\r\n",
        "    plt.title('Training and validation loss')\r\n",
        "    plt.legend()"
      ],
      "outputs": [],
      "execution_count": 7,
      "metadata": {
        "collapsed": true,
        "jupyter": {
          "source_hidden": false,
          "outputs_hidden": false
        },
        "nteract": {
          "transient": {
            "deleting": false
          }
        },
        "gather": {
          "logged": 1612979825019
        }
      }
    },
    {
      "cell_type": "code",
      "source": [
        "plot_history(history)"
      ],
      "outputs": [
        {
          "output_type": "display_data",
          "data": {
            "text/plain": "<Figure size 864x360 with 2 Axes>",
            "image/png": "[encoded data removed]"
          },
          "metadata": {}
        }
      ],
      "execution_count": 8,
      "metadata": {
        "collapsed": true,
        "jupyter": {
          "source_hidden": false,
          "outputs_hidden": false
        },
        "nteract": {
          "transient": {
            "deleting": false
          }
        },
        "gather": {
          "logged": 1612979825763
        }
      }
    },
    {
      "cell_type": "code",
      "source": [
        "def text2list(text):\r\n",
        "  import string\r\n",
        "  import re\r\n",
        "  test_str=text\r\n",
        "  test_str = ''.join([i for i in test_str if not i.isdigit()]) \r\n",
        "  test_str=test_str.lower()\r\n",
        "  punc = '''!()-[]{};:'\"\\,<>./¿?@#$%^&*_~+-=|`'''\r\n",
        "\r\n",
        "  for ele in test_str:\r\n",
        "    if ele in punc:\r\n",
        "      test_str = test_str.replace(ele, \"\")  \r\n",
        "\r\n",
        "  test_str_split=re.split('\\s+', test_str)\r\n",
        "  \r\n",
        "  if (test_str_split[0]==''):\r\n",
        "    test_str_split.remove('')\r\n",
        "  if (test_str_split[len(test_str_split)-1]==''):\r\n",
        "    test_str_split.remove('')\r\n",
        "\r\n",
        "  return test_str_split"
      ],
      "outputs": [],
      "execution_count": 14,
      "metadata": {
        "collapsed": true,
        "jupyter": {
          "source_hidden": false,
          "outputs_hidden": false
        },
        "nteract": {
          "transient": {
            "deleting": false
          }
        },
        "gather": {
          "logged": 1612979866907
        }
      }
    },
    {
      "cell_type": "code",
      "source": [
        "def lang_detect(text):\r\n",
        "    list_of_word=text2list(text)\r\n",
        "    k=[]\r\n",
        "    for word in list_of_word:\r\n",
        "        k.append(one_hot_encode(process(word)))\r\n",
        "        ans=network.predict(np.array(k))\r\n",
        "    print('Predication of language belonging of each unique word from a sentence\\n')\r\n",
        "    for q in range(len(list_of_word)):\r\n",
        "        eng=0\r\n",
        "        dan=0\r\n",
        "        dut=0\r\n",
        "        fre=0\r\n",
        "        ger=0\r\n",
        "        ita=0\r\n",
        "        pol=0\r\n",
        "        por=0\r\n",
        "        spa=0\r\n",
        "        swe=0\r\n",
        "        eng+=ans[q][0]\r\n",
        "        dan+=ans[q][1]\r\n",
        "        dut+=ans[q][2]\r\n",
        "        fre+=ans[q][3]\r\n",
        "        ger+=ans[q][4]\r\n",
        "        ita+=ans[q][5]\r\n",
        "        pol+=ans[q][6]\r\n",
        "        por+=ans[q][7]\r\n",
        "        spa+=ans[q][8]\r\n",
        "        swe+=ans[q][9]\r\n",
        "        each_word=list_of_word[q]\r\n",
        "        print(each_word)\r\n",
        "        report = \"Percentage Distribution\\nEnglish:-{}\\nDanish:-{}\\nDutch:-{}\\nFrench:-{}\\nGerman:-{}\\nItalian:-{}\\nPolish:-{}\\nPortuguese:-{}\\nSpanish:-{}\\nSwedish:-{}\\n\".format(eng,dan,dut,fre,ger,ita,pol,por,spa,swe)\r\n",
        "        print(report)"
      ],
      "outputs": [],
      "execution_count": 15,
      "metadata": {
        "collapsed": true,
        "jupyter": {
          "source_hidden": false,
          "outputs_hidden": false
        },
        "nteract": {
          "transient": {
            "deleting": false
          }
        },
        "gather": {
          "logged": 1612979869194
        }
      }
    },
    {
      "cell_type": "code",
      "source": [
        "lang_detect('freshdirect')\r\n",
        "lang_detect('hello @amigo , m+y name is 007. wie gehts? ¿necesitas ayuda?')"
      ],
      "outputs": [
        {
          "output_type": "stream",
          "name": "stdout",
          "text": [
            "Predication of language belonging of each unique word from a sentence\n",
            "\n",
            "freshdirect\n",
            "Percentage Distribution\n",
            "English:-0.554768443107605\n",
            "Danish:-0.052605725824832916\n",
            "Dutch:-0.19820944964885712\n",
            "French:-0.05213988199830055\n",
            "German:-0.04048014432191849\n",
            "Italian:-0.019838659092783928\n",
            "Polish:-0.005422219634056091\n",
            "Portuguese:-0.03549474850296974\n",
            "Spanish:-0.013928134925663471\n",
            "Swedish:-0.027112644165754318\n",
            "\n",
            "Predication of language belonging of each unique word from a sentence\n",
            "\n",
            "hello\n",
            "Percentage Distribution\n",
            "English:-0.12804020941257477\n",
            "Danish:-0.08043553680181503\n",
            "Dutch:-0.12053544074296951\n",
            "French:-0.06576814502477646\n",
            "German:-0.08746404945850372\n",
            "Italian:-0.07112016528844833\n",
            "Polish:-0.04183565080165863\n",
            "Portuguese:-0.09565382450819016\n",
            "Spanish:-0.19992287456989288\n",
            "Swedish:-0.10922405868768692\n",
            "\n",
            "amigo\n",
            "Percentage Distribution\n",
            "English:-0.06830451637506485\n",
            "Danish:-0.030398551374673843\n",
            "Dutch:-0.03972955420613289\n",
            "French:-0.06651601940393448\n",
            "German:-0.03678435459733009\n",
            "Italian:-0.15811610221862793\n",
            "Polish:-0.01895528845489025\n",
            "Portuguese:-0.31172192096710205\n",
            "Spanish:-0.24594998359680176\n",
            "Swedish:-0.023523805662989616\n",
            "\n",
            "my\n",
            "Percentage Distribution\n",
            "English:-0.11015205830335617\n",
            "Danish:-0.07390204817056656\n",
            "Dutch:-0.067222461104393\n",
            "French:-0.08098356425762177\n",
            "German:-0.055203627794981\n",
            "Italian:-0.05063214898109436\n",
            "Polish:-0.33599695563316345\n",
            "Portuguese:-0.05795084685087204\n",
            "Spanish:-0.06961800903081894\n",
            "Swedish:-0.09833825379610062\n",
            "\n",
            "name\n",
            "Percentage Distribution\n",
            "English:-0.08540932089090347\n",
            "Danish:-0.11459715664386749\n",
            "Dutch:-0.13575999438762665\n",
            "French:-0.1302785575389862\n",
            "German:-0.09338881820440292\n",
            "Italian:-0.07538309693336487\n",
            "Polish:-0.17120739817619324\n",
            "Portuguese:-0.07948713004589081\n",
            "Spanish:-0.061217740178108215\n",
            "Swedish:-0.05327081307768822\n",
            "\n",
            "is\n",
            "Percentage Distribution\n",
            "English:-0.11888670921325684\n",
            "Danish:-0.0912395566701889\n",
            "Dutch:-0.09768175333738327\n",
            "French:-0.12183656543493271\n",
            "German:-0.08437329530715942\n",
            "Italian:-0.11065452545881271\n",
            "Polish:-0.0729011669754982\n",
            "Portuguese:-0.11241485923528671\n",
            "Spanish:-0.12724430859088898\n",
            "Swedish:-0.06276723742485046\n",
            "\n",
            "wie\n",
            "Percentage Distribution\n",
            "English:-0.06760545074939728\n",
            "Danish:-0.035647258162498474\n",
            "Dutch:-0.08784881979227066\n",
            "French:-0.04648151993751526\n",
            "German:-0.06987842917442322\n",
            "Italian:-0.020801803097128868\n",
            "Polish:-0.5827595591545105\n",
            "Portuguese:-0.028788555413484573\n",
            "Spanish:-0.03448951244354248\n",
            "Swedish:-0.025699133053421974\n",
            "\n",
            "gehts\n",
            "Percentage Distribution\n",
            "English:-0.005273079499602318\n",
            "Danish:-0.0020305109210312366\n",
            "Dutch:-0.010447117500007153\n",
            "French:-0.00242048897780478\n",
            "German:-0.9740301966667175\n",
            "Italian:-0.0003510059614200145\n",
            "Polish:-0.00026822983636520803\n",
            "Portuguese:-0.0003803820291068405\n",
            "Spanish:-0.0017205898184329271\n",
            "Swedish:-0.0030784967821091413\n",
            "\n",
            "necesitas\n",
            "Percentage Distribution\n",
            "English:-0.0007744591566734016\n",
            "Danish:-0.00014331602142192423\n",
            "Dutch:-0.00023540265101473778\n",
            "French:-5.356002293410711e-05\n",
            "German:-8.723731298232451e-05\n",
            "Italian:-0.00017620842845644802\n",
            "Polish:-3.958020170102827e-05\n",
            "Portuguese:-0.09683500975370407\n",
            "Spanish:-0.9015619158744812\n",
            "Swedish:-9.324203711003065e-05\n",
            "\n",
            "ayuda\n",
            "Percentage Distribution\n",
            "English:-0.12374670058488846\n",
            "Danish:-0.0486246719956398\n",
            "Dutch:-0.044750627130270004\n",
            "French:-0.0985436886548996\n",
            "German:-0.04177507013082504\n",
            "Italian:-0.06710989028215408\n",
            "Polish:-0.05714362859725952\n",
            "Portuguese:-0.14467045664787292\n",
            "Spanish:-0.35136619210243225\n",
            "Swedish:-0.02226906456053257\n",
            "\n"
          ]
        }
      ],
      "execution_count": 16,
      "metadata": {
        "collapsed": true,
        "jupyter": {
          "source_hidden": false,
          "outputs_hidden": false
        },
        "nteract": {
          "transient": {
            "deleting": false
          }
        },
        "gather": {
          "logged": 1612979871616
        }
      }
    }
  ],
  "metadata": {
    "kernelspec": {
      "name": "python3-azureml",
      "language": "python",
      "display_name": "Python 3.6 - AzureML"
    },
    "language_info": {
      "name": "python",
      "version": "3.6.9",
      "mimetype": "text/x-python",
      "codemirror_mode": {
        "name": "ipython",
        "version": 3
      },
      "pygments_lexer": "ipython3",
      "nbconvert_exporter": "python",
      "file_extension": ".py"
    },
    "kernel_info": {
      "name": "python3-azureml"
    },
    "nteract": {
      "version": "nteract-front-end@1.0.0"
    }
  },
  "nbformat": 4,
  "nbformat_minor": 2
}