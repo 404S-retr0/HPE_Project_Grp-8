{
  "cells": [
    {
      "cell_type": "code",
      "source": [
        "#pip3 install tensorflow==1.15.2\r\n",
        "#pip3 install joblib\r\n",
        "#in cmd"
      ],
      "outputs": [],
      "execution_count": 1,
      "metadata": {
        "collapsed": true,
        "jupyter": {
          "source_hidden": false,
          "outputs_hidden": false
        },
        "nteract": {
          "transient": {
            "deleting": false
          }
        },
        "gather": {
          "logged": 1613412383354
        }
      }
    },
    {
      "cell_type": "markdown",
      "source": [
        "One-Hot_Encoding"
      ],
      "metadata": {
        "nteract": {
          "transient": {
            "deleting": false
          }
        }
      }
    },
    {
      "cell_type": "code",
      "source": [
        "import re\r\n",
        "import numpy as np\r\n",
        "import pandas as pd\r\n",
        "global alphabet\r\n",
        "global maxlen\r\n",
        "global N_LANG\r\n",
        "N_LANG=10\r\n",
        "maxlen=13 #max word lenght 13\r\n",
        "alphabet = \"abcdefghijklmnopqrstuvwxyzíóéáñúüäßöàèêçôùîûâìòźåãõíłęążśćńøæ\" #61 different character found in 10 European different Language\r\n",
        "def one_hot_encode(data):\r\n",
        "  char_to_int = dict((c, i) for i, c in enumerate(alphabet))\r\n",
        "  integer_encoded = [char_to_int[char] for char in data]\r\n",
        "  onehot_encoded = []\r\n",
        "  for value in integer_encoded:\r\n",
        "    letter = np.zeros(len(alphabet))\r\n",
        "    letter[value] = 1\r\n",
        "    onehot_encoded.append(letter)\r\n",
        "  while(len(onehot_encoded)<maxlen):\r\n",
        "    letter = np.zeros(len(alphabet))\r\n",
        "    onehot_encoded.append(letter)\r\n",
        "  return  np.array(onehot_encoded)\r\n",
        "\r\n",
        "def encode_labels(label):\r\n",
        "  temp = np.zeros(N_LANG)\r\n",
        "  temp[label-1] = 1\r\n",
        "  return temp\r\n",
        "\r\n",
        "def process(test_str):\r\n",
        "  test_str=test_str.lower()\r\n",
        "  test_str = re.sub(r'[^a-zA-Z ]', '', test_str)\r\n",
        "  return test_str"
      ],
      "outputs": [],
      "execution_count": 2,
      "metadata": {
        "gather": {
          "logged": 1613412385109
        }
      }
    },
    {
      "cell_type": "markdown",
      "source": [
        "After cleaning the data from total 100k words of each language then upload at github,total words of each language\r\n",
        "\r\n",
        "English:-93054 words\r\n",
        ", Danish:-96825 words\r\n",
        ", Dutch:-96698 words\r\n",
        ", French:-95564 words\r\n",
        ", German:-97447 words\r\n",
        ", Italin:-96847 words\r\n",
        ", Polish:-98181 words\r\n",
        ", Portuguese:-96429 words\r\n",
        ", Spanish:-97058 words\r\n",
        ", Swedish:-96870 words\r\n",
        "\r\n",
        "Loading the data and then encoding the words with respect to language."
      ],
      "metadata": {
        "nteract": {
          "transient": {
            "deleting": false
          }
        }
      }
    },
    {
      "cell_type": "code",
      "source": [
        "x=[]\r\n",
        "y=[]\r\n",
        "df=pd.read_csv('https://github.com/404S-retr0/HPE_Project_Grp-8/blob/main/Data_Wordlists.csv?raw=true')\r\n",
        "for word,lang in zip(df.WORDS,df.LANGAUAGE_VECTOR):\r\n",
        "    if(pd.isna(word)):\r\n",
        "      continue\r\n",
        "    if(len(word)<=maxlen):\r\n",
        "      x.append(one_hot_encode(process(word)))\r\n",
        "      y.append(encode_labels(int(lang)))\r\n",
        "x=np.array(x)\r\n",
        "print(x.shape)\r\n",
        "y=np.array(y)\r\n",
        "print(y.shape)"
      ],
      "outputs": [
        {
          "output_type": "stream",
          "name": "stdout",
          "text": [
            "(905779, 13, 61)\n",
            "(905779, 10)\n"
          ]
        }
      ],
      "execution_count": 3,
      "metadata": {
        "collapsed": true,
        "jupyter": {
          "source_hidden": false,
          "outputs_hidden": false
        },
        "nteract": {
          "transient": {
            "deleting": false
          }
        },
        "gather": {
          "logged": 1613412430936
        }
      }
    },
    {
      "cell_type": "code",
      "source": [
        "from sklearn.model_selection import train_test_split\r\n",
        "from keras.models import Sequential\r\n",
        "from keras.layers import Dense,Flatten\r\n",
        "x_train,x_test,y_train,y_test=train_test_split(x,y,test_size=0.5)\r\n",
        "def getmodel():\r\n",
        "    model = Sequential()\r\n",
        "    model.add(Flatten())\r\n",
        "    model.add(Dense(200, input_dim=61*maxlen, activation='sigmoid'))\r\n",
        "    model.add(Dense(150, activation='sigmoid'))\r\n",
        "    model.add(Dense(100, activation='sigmoid'))\r\n",
        "    model.add(Dense(50, activation='sigmoid'))\r\n",
        "    model.add(Dense(25, activation='sigmoid'))\r\n",
        "    model.add(Dense(N_LANG, activation='softmax'))\r\n",
        "    model.compile(loss='binary_crossentropy', optimizer='adam', metrics=['accuracy'])\r\n",
        "    return model"
      ],
      "outputs": [],
      "execution_count": 6,
      "metadata": {
        "collapsed": true,
        "jupyter": {
          "source_hidden": false,
          "outputs_hidden": false
        },
        "nteract": {
          "transient": {
            "deleting": false
          }
        },
        "gather": {
          "logged": 1613412454346
        }
      }
    },
    {
      "cell_type": "markdown",
      "source": [
        "Getting the best model without overfitting."
      ],
      "metadata": {
        "nteract": {
          "transient": {
            "deleting": false
          }
        }
      }
    },
    {
      "cell_type": "code",
      "source": [
        "from keras.callbacks import ModelCheckpoint,EarlyStopping\r\n",
        "filepath = \"w.hdf5\"\r\n",
        "checkpoint = ModelCheckpoint(filepath, monitor='val_accuracy', verbose=1, save_best_only=True, mode='max')\r\n",
        "es = EarlyStopping(monitor='val_loss', mode='min', verbose=1,patience=2)\r\n",
        "callbacks_list = [checkpoint,es]\r\n",
        "modelupd=getmodel()\r\n",
        "history=modelupd.fit(x_train,y_train, epochs=50, batch_size=500, validation_data=(x_test,y_test),callbacks=callbacks_list,verbose=1)"
      ],
      "outputs": [
        {
          "output_type": "stream",
          "name": "stdout",
          "text": [
            "WARNING:tensorflow:From /anaconda/envs/azureml_py36/lib/python3.6/site-packages/tensorflow_core/python/ops/resource_variable_ops.py:1630: calling BaseResourceVariable.__init__ (from tensorflow.python.ops.resource_variable_ops) with constraint is deprecated and will be removed in a future version.\n",
            "Instructions for updating:\n",
            "If using Keras pass *_constraint arguments to layers.\n",
            "WARNING:tensorflow:From /anaconda/envs/azureml_py36/lib/python3.6/site-packages/tensorflow_core/python/ops/math_grad.py:1424: where (from tensorflow.python.ops.array_ops) is deprecated and will be removed in a future version.\n",
            "Instructions for updating:\n",
            "Use tf.where in 2.0, which has the same broadcast rule as np.where\n",
            "WARNING:tensorflow:From /anaconda/envs/azureml_py36/lib/python3.6/site-packages/keras/backend/tensorflow_backend.py:422: The name tf.global_variables is deprecated. Please use tf.compat.v1.global_variables instead.\n",
            "\n",
            "Train on 452889 samples, validate on 452890 samples\n",
            "Epoch 1/50\n",
            "452889/452889 [==============================] - 7s 16us/step - loss: 0.3055 - accuracy: 0.9019 - val_loss: 0.2822 - val_accuracy: 0.9044\b\b\b\b\b\b\b\b\b\b\b\b\b\b\b\b\b\b\b\b\b\b\b\b\b\b\b\b\b\b\b\b\b\b\b\b\b\b\b\b\b\b\b\b\b\b\b\n",
            "\n",
            "Epoch 00001: val_accuracy improved from -inf to 0.90438, saving model to w.hdf5\n",
            "Epoch 2/50\n",
            "452889/452889 [==============================] - 7s 16us/step - loss: 0.2809 - accuracy: 0.9044 - val_loss: 0.2797 - val_accuracy: 0.9044\b\b\b\b\b\b\b\b\b\b\b\b\b\b\b\b\b\b\b\b\b\b\b\b\b\b\b\b\b\b\b\b\b\b\b\b\b\b\b\b\b\b\b\b\b\n",
            "\n",
            "Epoch 00002: val_accuracy improved from 0.90438 to 0.90441, saving model to w.hdf5\n",
            "Epoch 3/50\n",
            "452889/452889 [==============================] - 7s 16us/step - loss: 0.2783 - accuracy: 0.9046 - val_loss: 0.2763 - val_accuracy: 0.9045\b\b\b\b\b\b\b\b\b\b\b\b\b\b\b\b\b\b\b\b\b\b\b\b\b\b\b\b\b\b\b\b\b\b\b\b\b\b\b\b\b\b\b\b\b\n",
            "\n",
            "Epoch 00003: val_accuracy improved from 0.90441 to 0.90454, saving model to w.hdf5\n",
            "Epoch 4/50\n",
            "452889/452889 [==============================] - 7s 16us/step - loss: 0.2740 - accuracy: 0.9047 - val_loss: 0.2712 - val_accuracy: 0.9050\b\b\b\b\b\b\b\b\b\b\b\b\b\b\b\b\b\b\b\b\b\b\b\b\b\b\b\b\b\b\b\b\b\b\b\b\b\b\b\b\b\b\b\b\b\n",
            "\n",
            "Epoch 00004: val_accuracy improved from 0.90454 to 0.90501, saving model to w.hdf5\n",
            "Epoch 5/50\n",
            "452889/452889 [==============================] - 7s 16us/step - loss: 0.2694 - accuracy: 0.9055 - val_loss: 0.2672 - val_accuracy: 0.9058\b\b\b\b\b\b\b\b\b\b\b\b\b\b\b\b\b\b\b\b\b\b\b\b\b\b\b\b\b\b\b\b\b\b\b\b\b\b\b\b\b\b\b\b\b\n",
            "\n",
            "Epoch 00005: val_accuracy improved from 0.90501 to 0.90584, saving model to w.hdf5\n",
            "Epoch 6/50\n",
            "452889/452889 [==============================] - 7s 16us/step - loss: 0.2658 - accuracy: 0.9061 - val_loss: 0.2644 - val_accuracy: 0.9062\b\b\b\b\b\b\b\b\b\b\b\b\b\b\b\b\b\b\b\b\b\b\b\b\b\b\b\b\b\b\b\b\b\b\b\b\b\b\b\b\b\b\b\b\b\n",
            "\n",
            "Epoch 00006: val_accuracy improved from 0.90584 to 0.90616, saving model to w.hdf5\n",
            "Epoch 7/50\n",
            "452889/452889 [==============================] - 7s 16us/step - loss: 0.2627 - accuracy: 0.9065 - val_loss: 0.2616 - val_accuracy: 0.9068\b\b\b\b\b\b\b\b\b\b\b\b\b\b\b\b\b\b\b\b\b\b\b\b\b\b\b\b\b\b\b\b\b\b\b\b\b\b\b\b\b\b\b\b\b\n",
            "\n",
            "Epoch 00007: val_accuracy improved from 0.90616 to 0.90678, saving model to w.hdf5\n",
            "Epoch 8/50\n",
            "452889/452889 [==============================] - 7s 16us/step - loss: 0.2603 - accuracy: 0.9072 - val_loss: 0.2599 - val_accuracy: 0.9073\b\b\b\b\b\b\b\b\b\b\b\b\b\b\b\b\b\b\b\b\b\b\b\b\b\b\b\b\b\b\b\b\b\b\b\b\b\b\b\b\b\b\b\b\b\n",
            "\n",
            "Epoch 00008: val_accuracy improved from 0.90678 to 0.90728, saving model to w.hdf5\n",
            "Epoch 9/50\n",
            "452889/452889 [==============================] - 7s 16us/step - loss: 0.2583 - accuracy: 0.9078 - val_loss: 0.2573 - val_accuracy: 0.9080\b\b\b\b\b\b\b\b\b\b\b\b\b\b\b\b\b\b\b\b\b\b\b\b\b\b\b\b\b\b\b\b\b\b\b\b\b\b\b\b\b\b\b\b\b\n",
            "\n",
            "Epoch 00009: val_accuracy improved from 0.90728 to 0.90797, saving model to w.hdf5\n",
            "Epoch 10/50\n",
            "452889/452889 [==============================] - 7s 16us/step - loss: 0.2564 - accuracy: 0.9083 - val_loss: 0.2554 - val_accuracy: 0.9086\b\b\b\b\b\b\b\b\b\b\b\b\b\b\b\b\b\b\b\b\b\b\b\b\b\b\b\b\b\b\b\b\b\b\b\b\b\b\b\b\b\b\b\b\b\n",
            "\n",
            "Epoch 00010: val_accuracy improved from 0.90797 to 0.90856, saving model to w.hdf5\n",
            "Epoch 11/50\n",
            "452889/452889 [==============================] - 7s 16us/step - loss: 0.2543 - accuracy: 0.9090 - val_loss: 0.2538 - val_accuracy: 0.9089\b\b\b\b\b\b\b\b\b\b\b\b\b\b\b\b\b\b\b\b\b\b\b\b\b\b\b\b\b\b\b\b\b\b\b\b\b\b\b\b\b\b\b\b\b\n",
            "\n",
            "Epoch 00011: val_accuracy improved from 0.90856 to 0.90892, saving model to w.hdf5\n",
            "Epoch 12/50\n",
            "452889/452889 [==============================] - 7s 16us/step - loss: 0.2525 - accuracy: 0.9094 - val_loss: 0.2515 - val_accuracy: 0.9096\b\b\b\b\b\b\b\b\b\b\b\b\b\b\b\b\b\b\b\b\b\b\b\b\b\b\b\b\b\b\b\b\b\b\b\b\b\b\b\b\b\b\b\b\b\n",
            "\n",
            "Epoch 00012: val_accuracy improved from 0.90892 to 0.90963, saving model to w.hdf5\n",
            "Epoch 13/50\n",
            "452889/452889 [==============================] - 7s 16us/step - loss: 0.2506 - accuracy: 0.9101 - val_loss: 0.2499 - val_accuracy: 0.9101\b\b\b\b\b\b\b\b\b\b\b\b\b\b\b\b\b\b\b\b\b\b\b\b\b\b\b\b\b\b\b\b\b\b\b\b\b\b\b\b\b\b\b\b\b\n",
            "\n",
            "Epoch 00013: val_accuracy improved from 0.90963 to 0.91011, saving model to w.hdf5\n",
            "Epoch 14/50\n",
            "452889/452889 [==============================] - 7s 16us/step - loss: 0.2489 - accuracy: 0.9106 - val_loss: 0.2481 - val_accuracy: 0.9106\b\b\b\b\b\b\b\b\b\b\b\b\b\b\b\b\b\b\b\b\b\b\b\b\b\b\b\b\b\b\b\b\b\b\b\b\b\b\b\b\b\b\b\b\b\n",
            "\n",
            "Epoch 00014: val_accuracy improved from 0.91011 to 0.91065, saving model to w.hdf5\n",
            "Epoch 15/50\n",
            "452889/452889 [==============================] - 7s 16us/step - loss: 0.2473 - accuracy: 0.9110 - val_loss: 0.2465 - val_accuracy: 0.9111\b\b\b\b\b\b\b\b\b\b\b\b\b\b\b\b\b\b\b\b\b\b\b\b\b\b\b\b\b\b\b\b\b\b\b\b\b\b\b\b\b\b\b\b\b\n",
            "\n",
            "Epoch 00015: val_accuracy improved from 0.91065 to 0.91109, saving model to w.hdf5\n",
            "Epoch 16/50\n",
            "452889/452889 [==============================] - 7s 16us/step - loss: 0.2457 - accuracy: 0.9115 - val_loss: 0.2452 - val_accuracy: 0.9114\b\b\b\b\b\b\b\b\b\b\b\b\b\b\b\b\b\b\b\b\b\b\b\b\b\b\b\b\b\b\b\b\b\b\b\b\b\b\b\b\b\b\b\b\b\n",
            "\n",
            "Epoch 00016: val_accuracy improved from 0.91109 to 0.91144, saving model to w.hdf5\n",
            "Epoch 17/50\n",
            "452889/452889 [==============================] - 8s 18us/step - loss: 0.2439 - accuracy: 0.9121 - val_loss: 0.2435 - val_accuracy: 0.9120\b\b\b\b\b\b\b\b\b\b\b\b\b\b\b\b\b\b\b\b\b\b\b\b\b\b\b\b\b\b\b\b\b\b\b\b\b\b\b\b\b\b\b\b\b\n",
            "\n",
            "Epoch 00017: val_accuracy improved from 0.91144 to 0.91203, saving model to w.hdf5\n",
            "Epoch 18/50\n",
            "452889/452889 [==============================] - 8s 17us/step - loss: 0.2420 - accuracy: 0.9127 - val_loss: 0.2416 - val_accuracy: 0.9125\b\b\b\b\b\b\b\b\b\b\b\b\b\b\b\b\b\b\b\b\b\b\b\b\b\b\b\b\b\b\b\b\b\b\b\b\b\b\b\b\b\b\b\b\b\n",
            "\n",
            "Epoch 00018: val_accuracy improved from 0.91203 to 0.91247, saving model to w.hdf5\n",
            "Epoch 19/50\n",
            "452889/452889 [==============================] - 7s 16us/step - loss: 0.2400 - accuracy: 0.9133 - val_loss: 0.2405 - val_accuracy: 0.9129\b\b\b\b\b\b\b\b\b\b\b\b\b\b\b\b\b\b\b\b\b\b\b\b\b\b\b\b\b\b\b\b\b\b\b\b\b\b\b\b\b\b\b\b\b\n",
            "\n",
            "Epoch 00019: val_accuracy improved from 0.91247 to 0.91290, saving model to w.hdf5\n",
            "Epoch 20/50\n",
            "452889/452889 [==============================] - 7s 16us/step - loss: 0.2380 - accuracy: 0.9139 - val_loss: 0.2384 - val_accuracy: 0.9135\b\b\b\b\b\b\b\b\b\b\b\b\b\b\b\b\b\b\b\b\b\b\b\b\b\b\b\b\b\b\b\b\b\b\b\b\b\b\b\b\b\b\b\b\b\n",
            "\n",
            "Epoch 00020: val_accuracy improved from 0.91290 to 0.91349, saving model to w.hdf5\n",
            "Epoch 21/50\n",
            "452889/452889 [==============================] - 7s 16us/step - loss: 0.2360 - accuracy: 0.9145 - val_loss: 0.2366 - val_accuracy: 0.9142\b\b\b\b\b\b\b\b\b\b\b\b\b\b\b\b\b\b\b\b\b\b\b\b\b\b\b\b\b\b\b\b\b\b\b\b\b\b\b\b\b\b\b\b\b\n",
            "\n",
            "Epoch 00021: val_accuracy improved from 0.91349 to 0.91420, saving model to w.hdf5\n",
            "Epoch 22/50\n",
            "452889/452889 [==============================] - 7s 16us/step - loss: 0.2340 - accuracy: 0.9153 - val_loss: 0.2359 - val_accuracy: 0.9142\b\b\b\b\b\b\b\b\b\b\b\b\b\b\b\b\b\b\b\b\b\b\b\b\b\b\b\b\b\b\b\b\b\b\b\b\b\b\b\b\b\b\b\b\b\n",
            "\n",
            "Epoch 00022: val_accuracy improved from 0.91420 to 0.91421, saving model to w.hdf5\n",
            "Epoch 23/50\n",
            "452889/452889 [==============================] - 8s 17us/step - loss: 0.2321 - accuracy: 0.9159 - val_loss: 0.2339 - val_accuracy: 0.9152\b\b\b\b\b\b\b\b\b\b\b\b\b\b\b\b\b\b\b\b\b\b\b\b\b\b\b\b\b\b\b\b\b\b\b\b\b\b\b\b\b\b\b\b\b\n",
            "\n",
            "Epoch 00023: val_accuracy improved from 0.91421 to 0.91518, saving model to w.hdf5\n",
            "Epoch 24/50\n",
            "452889/452889 [==============================] - 8s 17us/step - loss: 0.2302 - accuracy: 0.9166 - val_loss: 0.2312 - val_accuracy: 0.9159\b\b\b\b\b\b\b\b\b\b\b\b\b\b\b\b\b\b\b\b\b\b\b\b\b\b\b\b\b\b\b\b\b\b\b\b\b\b\b\b\b\b\b\b\b\n",
            "\n",
            "Epoch 00024: val_accuracy improved from 0.91518 to 0.91591, saving model to w.hdf5\n",
            "Epoch 25/50\n",
            "452889/452889 [==============================] - 7s 16us/step - loss: 0.2285 - accuracy: 0.9172 - val_loss: 0.2304 - val_accuracy: 0.9162\b\b\b\b\b\b\b\b\b\b\b\b\b\b\b\b\b\b\b\b\b\b\b\b\b\b\b\b\b\b\b\b\b\b\b\b\b\b\b\b\b\b\b\b\b\n",
            "\n",
            "Epoch 00025: val_accuracy improved from 0.91591 to 0.91616, saving model to w.hdf5\n",
            "Epoch 26/50\n",
            "452889/452889 [==============================] - 7s 16us/step - loss: 0.2268 - accuracy: 0.9178 - val_loss: 0.2290 - val_accuracy: 0.9170\b\b\b\b\b\b\b\b\b\b\b\b\b\b\b\b\b\b\b\b\b\b\b\b\b\b\b\b\b\b\b\b\b\b\b\b\b\b\b\b\b\b\b\b\b\n",
            "\n",
            "Epoch 00026: val_accuracy improved from 0.91616 to 0.91700, saving model to w.hdf5\n",
            "Epoch 27/50\n",
            "452889/452889 [==============================] - 7s 16us/step - loss: 0.2252 - accuracy: 0.9184 - val_loss: 0.2283 - val_accuracy: 0.9172\b\b\b\b\b\b\b\b\b\b\b\b\b\b\b\b\b\b\b\b\b\b\b\b\b\b\b\b\b\b\b\b\b\b\b\b\b\b\b\b\b\b\b\b\b\n",
            "\n",
            "Epoch 00027: val_accuracy improved from 0.91700 to 0.91715, saving model to w.hdf5\n",
            "Epoch 28/50\n",
            "452889/452889 [==============================] - 7s 16us/step - loss: 0.2238 - accuracy: 0.9189 - val_loss: 0.2268 - val_accuracy: 0.9176\b\b\b\b\b\b\b\b\b\b\b\b\b\b\b\b\b\b\b\b\b\b\b\b\b\b\b\b\b\b\b\b\b\b\b\b\b\b\b\b\b\b\b\b\b\n",
            "\n",
            "Epoch 00028: val_accuracy improved from 0.91715 to 0.91762, saving model to w.hdf5\n",
            "Epoch 29/50\n",
            "452889/452889 [==============================] - 7s 16us/step - loss: 0.2224 - accuracy: 0.9195 - val_loss: 0.2261 - val_accuracy: 0.9180\b\b\b\b\b\b\b\b\b\b\b\b\b\b\b\b\b\b\b\b\b\b\b\b\b\b\b\b\b\b\b\b\b\b\b\b\b\b\b\b\b\b\b\b\b\n",
            "\n",
            "Epoch 00029: val_accuracy improved from 0.91762 to 0.91796, saving model to w.hdf5\n",
            "Epoch 30/50\n",
            "452889/452889 [==============================] - 7s 16us/step - loss: 0.2210 - accuracy: 0.9201 - val_loss: 0.2243 - val_accuracy: 0.9187\b\b\b\b\b\b\b\b\b\b\b\b\b\b\b\b\b\b\b\b\b\b\b\b\b\b\b\b\b\b\b\b\b\b\b\b\b\b\b\b\b\b\b\b\b\n",
            "\n",
            "Epoch 00030: val_accuracy improved from 0.91796 to 0.91871, saving model to w.hdf5\n",
            "Epoch 31/50\n",
            "452889/452889 [==============================] - 7s 16us/step - loss: 0.2196 - accuracy: 0.9206 - val_loss: 0.2236 - val_accuracy: 0.9189\b\b\b\b\b\b\b\b\b\b\b\b\b\b\b\b\b\b\b\b\b\b\b\b\b\b\b\b\b\b\b\b\b\b\b\b\b\b\b\b\b\b\b\b\b\n",
            "\n",
            "Epoch 00031: val_accuracy improved from 0.91871 to 0.91893, saving model to w.hdf5\n",
            "Epoch 32/50\n",
            "452889/452889 [==============================] - 8s 17us/step - loss: 0.2184 - accuracy: 0.9211 - val_loss: 0.2228 - val_accuracy: 0.9192\b\b\b\b\b\b\b\b\b\b\b\b\b\b\b\b\b\b\b\b\b\b\b\b\b\b\b\b\b\b\b\b\b\b\b\b\b\b\b\b\b\b\b\b\b\n",
            "\n",
            "Epoch 00032: val_accuracy improved from 0.91893 to 0.91915, saving model to w.hdf5\n",
            "Epoch 33/50\n",
            "452889/452889 [==============================] - 8s 17us/step - loss: 0.2173 - accuracy: 0.9214 - val_loss: 0.2217 - val_accuracy: 0.9196\b\b\b\b\b\b\b\b\b\b\b\b\b\b\b\b\b\b\b\b\b\b\b\b\b\b\b\b\b\b\b\b\b\b\b\b\b\b\b\b\b\b\b\b\b\n",
            "\n",
            "Epoch 00033: val_accuracy improved from 0.91915 to 0.91959, saving model to w.hdf5\n",
            "Epoch 34/50\n",
            "452889/452889 [==============================] - 8s 18us/step - loss: 0.2161 - accuracy: 0.9219 - val_loss: 0.2225 - val_accuracy: 0.9195\b\b\b\b\b\b\b\b\b\b\b\b\b\b\b\b\b\b\b\b\b\b\b\b\b\b\b\b\b\b\b\b\b\b\b\b\b\b\b\b\b\b\b\b\b\n",
            "\n",
            "Epoch 00034: val_accuracy did not improve from 0.91959\n",
            "Epoch 35/50\n",
            "452889/452889 [==============================] - 8s 17us/step - loss: 0.2151 - accuracy: 0.9223 - val_loss: 0.2199 - val_accuracy: 0.9203\b\b\b\b\b\b\b\b\b\b\b\b\b\b\b\b\b\b\b\b\b\b\b\b\b\b\b\b\b\b\b\b\b\b\b\b\b\b\b\b\b\b\b\b\b\n",
            "\n",
            "Epoch 00035: val_accuracy improved from 0.91959 to 0.92028, saving model to w.hdf5\n",
            "Epoch 36/50\n",
            "452889/452889 [==============================] - 7s 16us/step - loss: 0.2140 - accuracy: 0.9227 - val_loss: 0.2200 - val_accuracy: 0.9203\b\b\b\b\b\b\b\b\b\b\b\b\b\b\b\b\b\b\b\b\b\b\b\b\b\b\b\b\b\b\b\b\b\b\b\b\b\b\b\b\b\b\b\b\b\n",
            "\n",
            "Epoch 00036: val_accuracy did not improve from 0.92028\n",
            "Epoch 37/50\n",
            "452889/452889 [==============================] - 7s 16us/step - loss: 0.2131 - accuracy: 0.9230 - val_loss: 0.2188 - val_accuracy: 0.9207\b\b\b\b\b\b\b\b\b\b\b\b\b\b\b\b\b\b\b\b\b\b\b\b\b\b\b\b\b\b\b\b\b\b\b\b\b\b\b\b\b\b\b\b\b\n",
            "\n",
            "Epoch 00037: val_accuracy improved from 0.92028 to 0.92073, saving model to w.hdf5\n",
            "Epoch 38/50\n",
            "452889/452889 [==============================] - 7s 16us/step - loss: 0.2122 - accuracy: 0.9234 - val_loss: 0.2188 - val_accuracy: 0.9209\b\b\b\b\b\b\b\b\b\b\b\b\b\b\b\b\b\b\b\b\b\b\b\b\b\b\b\b\b\b\b\b\b\b\b\b\b\b\b\b\b\b\b\b\b\n",
            "\n",
            "Epoch 00038: val_accuracy improved from 0.92073 to 0.92085, saving model to w.hdf5\n",
            "Epoch 39/50\n",
            "452889/452889 [==============================] - 7s 16us/step - loss: 0.2111 - accuracy: 0.9238 - val_loss: 0.2181 - val_accuracy: 0.9210\b\b\b\b\b\b\b\b\b\b\b\b\b\b\b\b\b\b\b\b\b\b\b\b\b\b\b\b\b\b\b\b\b\b\b\b\b\b\b\b\b\b\b\b\b\n",
            "\n",
            "Epoch 00039: val_accuracy improved from 0.92085 to 0.92104, saving model to w.hdf5\n",
            "Epoch 40/50\n",
            "452889/452889 [==============================] - 7s 16us/step - loss: 0.2101 - accuracy: 0.9241 - val_loss: 0.2169 - val_accuracy: 0.9214\b\b\b\b\b\b\b\b\b\b\b\b\b\b\b\b\b\b\b\b\b\b\b\b\b\b\b\b\b\b\b\b\b\b\b\b\b\b\b\b\b\b\b\b\b\n",
            "\n",
            "Epoch 00040: val_accuracy improved from 0.92104 to 0.92140, saving model to w.hdf5\n",
            "Epoch 41/50\n",
            "452889/452889 [==============================] - 7s 16us/step - loss: 0.2094 - accuracy: 0.9245 - val_loss: 0.2182 - val_accuracy: 0.9212\b\b\b\b\b\b\b\b\b\b\b\b\b\b\b\b\b\b\b\b\b\b\b\b\b\b\b\b\b\b\b\b\b\b\b\b\b\b\b\b\b\b\b\b\b\n",
            "\n",
            "Epoch 00041: val_accuracy did not improve from 0.92140\n",
            "Epoch 42/50\n",
            "452889/452889 [==============================] - 7s 16us/step - loss: 0.2086 - accuracy: 0.9248 - val_loss: 0.2178 - val_accuracy: 0.9213\b\b\b\b\b\b\b\b\b\b\b\b\b\b\b\b\b\b\b\b\b\b\b\b\b\b\b\b\b\b\b\b\b\b\b\b\b\b\b\b\b\b\b\b\b\n",
            "\n",
            "Epoch 00042: val_accuracy did not improve from 0.92140\n",
            "Epoch 00042: early stopping\n"
          ]
        }
      ],
      "execution_count": 7,
      "metadata": {
        "collapsed": true,
        "jupyter": {
          "source_hidden": false,
          "outputs_hidden": false
        },
        "nteract": {
          "transient": {
            "deleting": false
          }
        },
        "gather": {
          "logged": 1613412777613
        }
      }
    },
    {
      "cell_type": "markdown",
      "source": [
        "Summary of Model 'modelupd'"
      ],
      "metadata": {
        "nteract": {
          "transient": {
            "deleting": false
          }
        }
      }
    },
    {
      "cell_type": "code",
      "source": [
        "modelupd.summary()"
      ],
      "outputs": [
        {
          "output_type": "stream",
          "name": "stdout",
          "text": [
            "Model: \"sequential_1\"\n",
            "_________________________________________________________________\n",
            "Layer (type)                 Output Shape              Param #   \n",
            "=================================================================\n",
            "flatten_1 (Flatten)          (None, 793)               0         \n",
            "_________________________________________________________________\n",
            "dense_1 (Dense)              (None, 200)               158800    \n",
            "_________________________________________________________________\n",
            "dense_2 (Dense)              (None, 150)               30150     \n",
            "_________________________________________________________________\n",
            "dense_3 (Dense)              (None, 100)               15100     \n",
            "_________________________________________________________________\n",
            "dense_4 (Dense)              (None, 50)                5050      \n",
            "_________________________________________________________________\n",
            "dense_5 (Dense)              (None, 25)                1275      \n",
            "_________________________________________________________________\n",
            "dense_6 (Dense)              (None, 10)                260       \n",
            "=================================================================\n",
            "Total params: 210,635\n",
            "Trainable params: 210,635\n",
            "Non-trainable params: 0\n",
            "_________________________________________________________________\n"
          ]
        }
      ],
      "execution_count": 8,
      "metadata": {
        "collapsed": true,
        "jupyter": {
          "source_hidden": false,
          "outputs_hidden": false
        },
        "nteract": {
          "transient": {
            "deleting": false
          }
        },
        "gather": {
          "logged": 1613412856982
        }
      }
    },
    {
      "cell_type": "markdown",
      "source": [
        "Model Accuracy Graph of 'modelupd'"
      ],
      "metadata": {
        "nteract": {
          "transient": {
            "deleting": false
          }
        }
      }
    },
    {
      "cell_type": "code",
      "source": [
        "import matplotlib.pyplot as plt\r\n",
        "plt.style.use('ggplot')\r\n",
        "def plot_history(history):\r\n",
        "    acc = history.history['accuracy']\r\n",
        "    val_acc = history.history['val_accuracy']\r\n",
        "    loss = history.history['loss']\r\n",
        "    val_loss = history.history['val_loss']\r\n",
        "    x = range(1, len(acc) + 1)\r\n",
        "    plt.figure(figsize=(12, 5))\r\n",
        "    plt.subplot(1, 2, 1)\r\n",
        "    plt.plot(x, acc, 'b', label='Training acc')\r\n",
        "    plt.plot(x, val_acc, 'r', label='Validation acc')\r\n",
        "    plt.title('Training and validation accuracy')\r\n",
        "    plt.legend()\r\n",
        "    plt.subplot(1, 2, 2)\r\n",
        "    plt.plot(x, loss, 'b', label='Training loss')\r\n",
        "    plt.plot(x, val_loss, 'r', label='Validation loss')\r\n",
        "    plt.title('Training and validation loss')\r\n",
        "    plt.legend()\r\n",
        "\r\n",
        "plot_history(history)"
      ],
      "outputs": [
        {
          "output_type": "display_data",
          "data": {
            "text/plain": "<Figure size 864x360 with 2 Axes>",
            "image/png": "[encoded data removed]"
          },
          "metadata": {}
        }
      ],
      "execution_count": 9,
      "metadata": {
        "collapsed": true,
        "jupyter": {
          "source_hidden": false,
          "outputs_hidden": false
        },
        "nteract": {
          "transient": {
            "deleting": false
          }
        },
        "gather": {
          "logged": 1613412863642
        }
      }
    },
    {
      "cell_type": "markdown",
      "source": [
        "Saving the Model and Input Data(Non-Targeting Data)"
      ],
      "metadata": {
        "nteract": {
          "transient": {
            "deleting": false
          }
        }
      }
    },
    {
      "cell_type": "code",
      "source": [
        "# Save your model\r\n",
        "import pickle\r\n",
        "File = open('LDPModel.pckl','wb')\r\n",
        "pickle.dump(modelupd,File)\r\n",
        "File.close()"
      ],
      "outputs": [],
      "execution_count": 10,
      "metadata": {
        "collapsed": true,
        "jupyter": {
          "source_hidden": false,
          "outputs_hidden": false
        },
        "nteract": {
          "transient": {
            "deleting": false
          }
        },
        "gather": {
          "logged": 1613412867947
        }
      }
    },
    {
      "cell_type": "markdown",
      "source": [
        "Defining text2list function"
      ],
      "metadata": {
        "nteract": {
          "transient": {
            "deleting": false
          }
        }
      }
    },
    {
      "cell_type": "code",
      "source": [
        "def text2list(text):\r\n",
        "  import string\r\n",
        "  import re\r\n",
        "  test_str=text\r\n",
        "  test_str = ''.join([i for i in test_str if not i.isdigit()]) \r\n",
        "  test_str=test_str.lower()\r\n",
        "  punc = '''!()-[]{};:'\"\\,<>./¿?@#$%^&*_~+-=|`'''\r\n",
        "\r\n",
        "  for ele in test_str:\r\n",
        "    if ele in punc:\r\n",
        "      test_str = test_str.replace(ele, \"\")  \r\n",
        "\r\n",
        "  test_str_split=re.split('\\s+', test_str)\r\n",
        "  \r\n",
        "  if (test_str_split[0]==''):\r\n",
        "    test_str_split.remove('')\r\n",
        "  if (test_str_split[len(test_str_split)-1]==''):\r\n",
        "    test_str_split.remove('')\r\n",
        "\r\n",
        "  return test_str_split"
      ],
      "outputs": [],
      "execution_count": 11,
      "metadata": {
        "collapsed": true,
        "jupyter": {
          "source_hidden": false,
          "outputs_hidden": false
        },
        "nteract": {
          "transient": {
            "deleting": false
          }
        },
        "gather": {
          "logged": 1613412871397
        }
      }
    },
    {
      "cell_type": "markdown",
      "source": [
        "Loading the Model and defining lang_detect in percentage Distribution"
      ],
      "metadata": {
        "nteract": {
          "transient": {
            "deleting": false
          }
        }
      }
    },
    {
      "cell_type": "code",
      "source": [
        "import pickle\r\n",
        "def lang_detect(text):\r\n",
        "    list_of_word=text2list(text)\r\n",
        "    k=[]\r\n",
        "    global LangDetectModel\r\n",
        "    LangDetectFile = open('LDPModel.pckl','rb')\r\n",
        "    LangDetectModel = pickle.load(LangDetectFile)\r\n",
        "    LangDetectFile.close();\r\n",
        "    for word in list_of_word:\r\n",
        "        k.append(one_hot_encode(process(word)))\r\n",
        "        ans=LangDetectModel.predict(np.array(k))\r\n",
        "    print('Predication of language belonging of each unique word from a sentence\\n')\r\n",
        "    for q in range(len(list_of_word)):\r\n",
        "        eng=0\r\n",
        "        dan=0\r\n",
        "        dut=0\r\n",
        "        fre=0\r\n",
        "        ger=0\r\n",
        "        ita=0\r\n",
        "        pol=0\r\n",
        "        por=0\r\n",
        "        spa=0\r\n",
        "        swe=0\r\n",
        "        eng+=ans[q][0]\r\n",
        "        dan+=ans[q][1]\r\n",
        "        dut+=ans[q][2]\r\n",
        "        fre+=ans[q][3]\r\n",
        "        ger+=ans[q][4]\r\n",
        "        ita+=ans[q][5]\r\n",
        "        pol+=ans[q][6]\r\n",
        "        por+=ans[q][7]\r\n",
        "        spa+=ans[q][8]\r\n",
        "        swe+=ans[q][9]\r\n",
        "        each_word=list_of_word[q]\r\n",
        "        print(each_word)\r\n",
        "        report = \"Percentage Distribution\\nEnglish:-{}\\nDanish:-{}\\nDutch:-{}\\nFrench:-{}\\nGerman:-{}\\nItalian:-{}\\nPolish:-{}\\nPortuguese:-{}\\nSpanish:-{}\\nSwedish:-{}\\n\".format(eng,dan,dut,fre,ger,ita,pol,por,spa,swe)\r\n",
        "        print(report)"
      ],
      "outputs": [],
      "execution_count": 12,
      "metadata": {
        "collapsed": true,
        "jupyter": {
          "source_hidden": false,
          "outputs_hidden": false
        },
        "nteract": {
          "transient": {
            "deleting": false
          }
        },
        "gather": {
          "logged": 1613412886096
        }
      }
    },
    {
      "cell_type": "markdown",
      "source": [
        "Running the lang_detect function as trail"
      ],
      "metadata": {
        "nteract": {
          "transient": {
            "deleting": false
          }
        }
      }
    },
    {
      "cell_type": "code",
      "source": [
        "lang_detect('freshdirect')\r\n",
        "lang_detect('hello @amigo , m+y name is 007. wie gehts? ¿necesitas ayuda?')"
      ],
      "outputs": [],
      "execution_count": null,
      "metadata": {
        "collapsed": true,
        "jupyter": {
          "source_hidden": false,
          "outputs_hidden": false
        },
        "nteract": {
          "transient": {
            "deleting": false
          }
        },
        "gather": {
          "logged": 1613411966781
        }
      }
    }
  ],
  "metadata": {
    "kernelspec": {
      "name": "python3-azureml",
      "language": "python",
      "display_name": "Python 3.6 - AzureML"
    },
    "language_info": {
      "name": "python",
      "version": "3.6.9",
      "mimetype": "text/x-python",
      "codemirror_mode": {
        "name": "ipython",
        "version": 3
      },
      "pygments_lexer": "ipython3",
      "nbconvert_exporter": "python",
      "file_extension": ".py"
    },
    "kernel_info": {
      "name": "python3-azureml"
    },
    "nteract": {
      "version": "nteract-front-end@1.0.0"
    }
  },
  "nbformat": 4,
  "nbformat_minor": 2
}