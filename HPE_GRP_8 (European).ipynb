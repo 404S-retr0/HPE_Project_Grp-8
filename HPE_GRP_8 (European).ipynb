{
  "cells": [
    {
      "cell_type": "code",
      "source": [
        "#pip3 install tensorflow==1.15.2\r\n",
        "#pip3 install joblib\r\n",
        "#in cmd"
      ],
      "outputs": [],
      "execution_count": 1,
      "metadata": {
        "collapsed": true,
        "jupyter": {
          "source_hidden": false,
          "outputs_hidden": false
        },
        "nteract": {
          "transient": {
            "deleting": false
          }
        },
        "gather": {
          "logged": 1613576493288
        }
      }
    },
    {
      "cell_type": "markdown",
      "source": [
        "One-Hot_Encoding"
      ],
      "metadata": {
        "nteract": {
          "transient": {
            "deleting": false
          }
        }
      }
    },
    {
      "cell_type": "code",
      "source": [
        "import re\r\n",
        "import numpy as np\r\n",
        "import pandas as pd\r\n",
        "global alphabet\r\n",
        "global maxlen\r\n",
        "global N_LANG\r\n",
        "N_LANG=10\r\n",
        "maxlen=13 #max word lenght 13\r\n",
        "alphabet = \"abcdefghijklmnopqrstuvwxyzíóéáñúüäßöàèêçôùîûâìòźåãõíłęążśćńøæ\" #61 different character found in 10 European different Language\r\n",
        "def one_hot_encode(data):\r\n",
        "  char_to_int = dict((c, i) for i, c in enumerate(alphabet))\r\n",
        "  integer_encoded = [char_to_int[char] for char in data]\r\n",
        "  onehot_encoded = []\r\n",
        "  for value in integer_encoded:\r\n",
        "    letter = np.zeros(len(alphabet))\r\n",
        "    letter[value] = 1\r\n",
        "    onehot_encoded.append(letter)\r\n",
        "  while(len(onehot_encoded)<maxlen):\r\n",
        "    letter = np.zeros(len(alphabet))\r\n",
        "    onehot_encoded.append(letter)\r\n",
        "  return  np.array(onehot_encoded)\r\n",
        "\r\n",
        "def encode_labels(label):\r\n",
        "  temp = np.zeros(N_LANG)\r\n",
        "  temp[label-1] = 1\r\n",
        "  return temp\r\n",
        "\r\n",
        "def process(test_str):\r\n",
        "  test_str=test_str.lower()\r\n",
        "  test_str = re.sub(r'[^a-zA-Z ]', '', test_str)\r\n",
        "  return test_str"
      ],
      "outputs": [],
      "execution_count": 2,
      "metadata": {
        "gather": {
          "logged": 1613576495225
        }
      }
    },
    {
      "cell_type": "markdown",
      "source": [
        "After cleaning the data from total 100k words of each language then upload at github,total words of each language\r\n",
        "\r\n",
        "English:-93054 words\r\n",
        ", Danish:-96825 words\r\n",
        ", Dutch:-96698 words\r\n",
        ", French:-95564 words\r\n",
        ", German:-97447 words\r\n",
        ", Italin:-96847 words\r\n",
        ", Polish:-98181 words\r\n",
        ", Portuguese:-96429 words\r\n",
        ", Spanish:-97058 words\r\n",
        ", Swedish:-96870 words\r\n",
        "\r\n",
        "Loading the data and then encoding the words with respect to language."
      ],
      "metadata": {
        "nteract": {
          "transient": {
            "deleting": false
          }
        }
      }
    },
    {
      "cell_type": "code",
      "source": [
        "x=[]\r\n",
        "y=[]\r\n",
        "df=pd.read_csv('https://github.com/404S-retr0/WebApplication/blob/main/Data_Wordlists.csv?raw=true')\r\n",
        "for word,lang in zip(df.WORDS,df.LANGAUAGE_VECTOR):\r\n",
        "    if(pd.isna(word)):\r\n",
        "      continue\r\n",
        "    if(len(word)<=maxlen):\r\n",
        "      x.append(one_hot_encode(process(word)))\r\n",
        "      y.append(encode_labels(int(lang)))\r\n",
        "x=np.array(x)\r\n",
        "print(x.shape)\r\n",
        "y=np.array(y)\r\n",
        "print(y.shape)"
      ],
      "outputs": [
        {
          "output_type": "stream",
          "name": "stdout",
          "text": [
            "(905779, 13, 61)\n",
            "(905779, 10)\n"
          ]
        }
      ],
      "execution_count": 4,
      "metadata": {
        "collapsed": true,
        "jupyter": {
          "source_hidden": false,
          "outputs_hidden": false
        },
        "nteract": {
          "transient": {
            "deleting": false
          }
        },
        "gather": {
          "logged": 1613576592013
        }
      }
    },
    {
      "cell_type": "code",
      "source": [
        "from sklearn.model_selection import train_test_split\r\n",
        "from keras.models import Sequential\r\n",
        "from keras.layers import Dense,Flatten\r\n",
        "x_train,x_test,y_train,y_test=train_test_split(x,y,test_size=0.5)\r\n",
        "def getmodel():\r\n",
        "    model = Sequential()\r\n",
        "    model.add(Flatten())\r\n",
        "    model.add(Dense(200, input_dim=61*maxlen, activation='sigmoid'))\r\n",
        "    model.add(Dense(150, activation='sigmoid'))\r\n",
        "    model.add(Dense(100, activation='sigmoid'))\r\n",
        "    model.add(Dense(50, activation='sigmoid'))\r\n",
        "    model.add(Dense(25, activation='sigmoid'))\r\n",
        "    model.add(Dense(N_LANG, activation='softmax'))\r\n",
        "    model.compile(loss='binary_crossentropy', optimizer='adam', metrics=['accuracy'])\r\n",
        "    return model"
      ],
      "outputs": [],
      "execution_count": 12,
      "metadata": {
        "collapsed": true,
        "jupyter": {
          "source_hidden": false,
          "outputs_hidden": false
        },
        "nteract": {
          "transient": {
            "deleting": false
          }
        },
        "gather": {
          "logged": 1613577363171
        }
      }
    },
    {
      "cell_type": "markdown",
      "source": [
        "Getting the best model without overfitting."
      ],
      "metadata": {
        "nteract": {
          "transient": {
            "deleting": false
          }
        }
      }
    },
    {
      "cell_type": "code",
      "source": [
        "from keras.callbacks import ModelCheckpoint,EarlyStopping\r\n",
        "filepath = \"w.hdf5\"\r\n",
        "checkpoint = ModelCheckpoint(filepath, monitor='val_accuracy', verbose=1, save_best_only=True, mode='max')\r\n",
        "es = EarlyStopping(monitor='val_loss', mode='min', verbose=1,patience=2)\r\n",
        "callbacks_list = [checkpoint,es]\r\n",
        "modelupd=getmodel()\r\n",
        "history=modelupd.fit(x_train,y_train, epochs=50, batch_size=500, validation_data=(x_test,y_test),callbacks=callbacks_list,verbose=1)"
      ],
      "outputs": [
        {
          "output_type": "stream",
          "name": "stdout",
          "text": [
            "Train on 452889 samples, validate on 452890 samples\n",
            "Epoch 1/50\n",
            "452889/452889 [==============================] - 14s 31us/step - loss: 0.3067 - accuracy: 0.9018 - val_loss: 0.2830 - val_accuracy: 0.9043\b\b\b\b\b\b\b\b\b\b\b\b\b\b\b\b\b\b\b\b\b\b\b\b\b\b\b\b\b\b\b\b\b\b\b\b\b\b\b\b\b\b\b\b\b\b\n",
            "\n",
            "Epoch 00001: val_accuracy improved from -inf to 0.90431, saving model to w.hdf5\n",
            "Epoch 2/50\n",
            "452889/452889 [==============================] - 14s 30us/step - loss: 0.2804 - accuracy: 0.9044 - val_loss: 0.2787 - val_accuracy: 0.9044\b\b\b\b\b\b\b\b\b\b\b\b\b\b\b\b\b\b\b\b\b\b\b\b\b\b\b\b\b\b\b\b\b\b\b\b\b\b\b\b\b\b\b\b\n",
            "\n",
            "Epoch 00002: val_accuracy improved from 0.90431 to 0.90443, saving model to w.hdf5\n",
            "Epoch 3/50\n",
            "452889/452889 [==============================] - 13s 30us/step - loss: 0.2771 - accuracy: 0.9045 - val_loss: 0.2752 - val_accuracy: 0.9045\b\b\b\b\b\b\b\b\b\b\b\b\b\b\b\b\b\b\b\b\b\b\b\b\b\b\b\b\b\b\b\b\b\b\b\b\b\b\b\b\b\b\b\b\n",
            "\n",
            "Epoch 00003: val_accuracy improved from 0.90443 to 0.90454, saving model to w.hdf5\n",
            "Epoch 4/50\n",
            "452889/452889 [==============================] - 14s 30us/step - loss: 0.2728 - accuracy: 0.9047 - val_loss: 0.2701 - val_accuracy: 0.9051\b\b\b\b\b\b\b\b\b\b\b\b\b\b\b\b\b\b\b\b\b\b\b\b\b\b\b\b\b\b\b\b\b\b\b\b\b\b\b\b\b\b\b\b\n",
            "\n",
            "Epoch 00004: val_accuracy improved from 0.90454 to 0.90506, saving model to w.hdf5\n",
            "Epoch 5/50\n",
            "452889/452889 [==============================] - 13s 30us/step - loss: 0.2685 - accuracy: 0.9054 - val_loss: 0.2663 - val_accuracy: 0.9058\b\b\b\b\b\b\b\b\b\b\b\b\b\b\b\b\b\b\b\b\b\b\b\b\b\b\b\b\b\b\b\b\b\b\b\b\b\b\b\b\b\b\b\b\n",
            "\n",
            "Epoch 00005: val_accuracy improved from 0.90506 to 0.90582, saving model to w.hdf5\n",
            "Epoch 6/50\n",
            "452889/452889 [==============================] - 13s 30us/step - loss: 0.2644 - accuracy: 0.9061 - val_loss: 0.2626 - val_accuracy: 0.9065\b\b\b\b\b\b\b\b\b\b\b\b\b\b\b\b\b\b\b\b\b\b\b\b\b\b\b\b\b\b\b\b\b\b\b\b\b\b\b\b\b\b\b\b\n",
            "\n",
            "Epoch 00006: val_accuracy improved from 0.90582 to 0.90651, saving model to w.hdf5\n",
            "Epoch 7/50\n",
            "452889/452889 [==============================] - 13s 30us/step - loss: 0.2607 - accuracy: 0.9069 - val_loss: 0.2596 - val_accuracy: 0.9072\b\b\b\b\b\b\b\b\b\b\b\b\b\b\b\b\b\b\b\b\b\b\b\b\b\b\b\b\b\b\b\b\b\b\b\b\b\b\b\b\b\b\b\b\n",
            "\n",
            "Epoch 00007: val_accuracy improved from 0.90651 to 0.90716, saving model to w.hdf5\n",
            "Epoch 8/50\n",
            "452889/452889 [==============================] - 14s 30us/step - loss: 0.2581 - accuracy: 0.9076 - val_loss: 0.2573 - val_accuracy: 0.9079\b\b\b\b\b\b\b\b\b\b\b\b\b\b\b\b\b\b\b\b\b\b\b\b\b\b\b\b\b\b\b\b\b\b\b\b\b\b\b\b\b\b\b\b\n",
            "\n",
            "Epoch 00008: val_accuracy improved from 0.90716 to 0.90788, saving model to w.hdf5\n",
            "Epoch 9/50\n",
            "452889/452889 [==============================] - 14s 30us/step - loss: 0.2561 - accuracy: 0.9082 - val_loss: 0.2556 - val_accuracy: 0.9084\b\b\b\b\b\b\b\b\b\b\b\b\b\b\b\b\b\b\b\b\b\b\b\b\b\b\b\b\b\b\b\b\b\b\b\b\b\b\b\b\b\b\b\b\n",
            "\n",
            "Epoch 00009: val_accuracy improved from 0.90788 to 0.90843, saving model to w.hdf5\n",
            "Epoch 10/50\n",
            "452889/452889 [==============================] - 14s 30us/step - loss: 0.2544 - accuracy: 0.9088 - val_loss: 0.2545 - val_accuracy: 0.9090\b\b\b\b\b\b\b\b\b\b\b\b\b\b\b\b\b\b\b\b\b\b\b\b\b\b\b\b\b\b\b\b\b\b\b\b\b\b\b\b\b\b\b\b\n",
            "\n",
            "Epoch 00010: val_accuracy improved from 0.90843 to 0.90898, saving model to w.hdf5\n",
            "Epoch 11/50\n",
            "452889/452889 [==============================] - 13s 29us/step - loss: 0.2527 - accuracy: 0.9094 - val_loss: 0.2522 - val_accuracy: 0.9096\b\b\b\b\b\b\b\b\b\b\b\b\b\b\b\b\b\b\b\b\b\b\b\b\b\b\b\b\b\b\b\b\b\b\b\b\b\b\b\b\b\b\b\b\n",
            "\n",
            "Epoch 00011: val_accuracy improved from 0.90898 to 0.90959, saving model to w.hdf5\n",
            "Epoch 12/50\n",
            "452889/452889 [==============================] - 13s 29us/step - loss: 0.2511 - accuracy: 0.9099 - val_loss: 0.2515 - val_accuracy: 0.9098\b\b\b\b\b\b\b\b\b\b\b\b\b\b\b\b\b\b\b\b\b\b\b\b\b\b\b\b\b\b\b\b\b\b\b\b\b\b\b\b\b\b\b\b\n",
            "\n",
            "Epoch 00012: val_accuracy improved from 0.90959 to 0.90979, saving model to w.hdf5\n",
            "Epoch 13/50\n",
            "452889/452889 [==============================] - 14s 30us/step - loss: 0.2497 - accuracy: 0.9104 - val_loss: 0.2499 - val_accuracy: 0.9104\b\b\b\b\b\b\b\b\b\b\b\b\b\b\b\b\b\b\b\b\b\b\b\b\b\b\b\b\b\b\b\b\b\b\b\b\b\b\b\b\b\b\b\b\n",
            "\n",
            "Epoch 00013: val_accuracy improved from 0.90979 to 0.91043, saving model to w.hdf5\n",
            "Epoch 14/50\n",
            "452889/452889 [==============================] - 14s 30us/step - loss: 0.2482 - accuracy: 0.9108 - val_loss: 0.2484 - val_accuracy: 0.9107\b\b\b\b\b\b\b\b\b\b\b\b\b\b\b\b\b\b\b\b\b\b\b\b\b\b\b\b\b\b\b\b\b\b\b\b\b\b\b\b\b\b\b\b\n",
            "\n",
            "Epoch 00014: val_accuracy improved from 0.91043 to 0.91072, saving model to w.hdf5\n",
            "Epoch 15/50\n",
            "452889/452889 [==============================] - 13s 30us/step - loss: 0.2466 - accuracy: 0.9114 - val_loss: 0.2473 - val_accuracy: 0.9111\b\b\b\b\b\b\b\b\b\b\b\b\b\b\b\b\b\b\b\b\b\b\b\b\b\b\b\b\b\b\b\b\b\b\b\b\b\b\b\b\b\b\b\b\n",
            "\n",
            "Epoch 00015: val_accuracy improved from 0.91072 to 0.91111, saving model to w.hdf5\n",
            "Epoch 16/50\n",
            "452889/452889 [==============================] - 13s 30us/step - loss: 0.2451 - accuracy: 0.9119 - val_loss: 0.2452 - val_accuracy: 0.9118\b\b\b\b\b\b\b\b\b\b\b\b\b\b\b\b\b\b\b\b\b\b\b\b\b\b\b\b\b\b\b\b\b\b\b\b\b\b\b\b\b\b\b\b\n",
            "\n",
            "Epoch 00016: val_accuracy improved from 0.91111 to 0.91177, saving model to w.hdf5\n",
            "Epoch 17/50\n",
            "452889/452889 [==============================] - 13s 30us/step - loss: 0.2433 - accuracy: 0.9124 - val_loss: 0.2435 - val_accuracy: 0.9123\b\b\b\b\b\b\b\b\b\b\b\b\b\b\b\b\b\b\b\b\b\b\b\b\b\b\b\b\b\b\b\b\b\b\b\b\b\b\b\b\b\b\b\b\n",
            "\n",
            "Epoch 00017: val_accuracy improved from 0.91177 to 0.91231, saving model to w.hdf5\n",
            "Epoch 18/50\n",
            "452889/452889 [==============================] - 13s 30us/step - loss: 0.2414 - accuracy: 0.9130 - val_loss: 0.2413 - val_accuracy: 0.9130\b\b\b\b\b\b\b\b\b\b\b\b\b\b\b\b\b\b\b\b\b\b\b\b\b\b\b\b\b\b\b\b\b\b\b\b\b\b\b\b\b\b\b\b\n",
            "\n",
            "Epoch 00018: val_accuracy improved from 0.91231 to 0.91296, saving model to w.hdf5\n",
            "Epoch 19/50\n",
            "452889/452889 [==============================] - 13s 30us/step - loss: 0.2396 - accuracy: 0.9136 - val_loss: 0.2411 - val_accuracy: 0.9131\b\b\b\b\b\b\b\b\b\b\b\b\b\b\b\b\b\b\b\b\b\b\b\b\b\b\b\b\b\b\b\b\b\b\b\b\b\b\b\b\b\b\b\b\n",
            "\n",
            "Epoch 00019: val_accuracy improved from 0.91296 to 0.91314, saving model to w.hdf5\n",
            "Epoch 20/50\n",
            "452889/452889 [==============================] - 14s 30us/step - loss: 0.2373 - accuracy: 0.9143 - val_loss: 0.2387 - val_accuracy: 0.9139\b\b\b\b\b\b\b\b\b\b\b\b\b\b\b\b\b\b\b\b\b\b\b\b\b\b\b\b\b\b\b\b\b\b\b\b\b\b\b\b\b\b\b\b\n",
            "\n",
            "Epoch 00020: val_accuracy improved from 0.91314 to 0.91385, saving model to w.hdf5\n",
            "Epoch 21/50\n",
            "452889/452889 [==============================] - 14s 30us/step - loss: 0.2353 - accuracy: 0.9150 - val_loss: 0.2387 - val_accuracy: 0.9137\b\b\b\b\b\b\b\b\b\b\b\b\b\b\b\b\b\b\b\b\b\b\b\b\b\b\b\b\b\b\b\b\b\b\b\b\b\b\b\b\b\b\b\b\n",
            "\n",
            "Epoch 00021: val_accuracy did not improve from 0.91385\n",
            "Epoch 22/50\n",
            "452889/452889 [==============================] - 13s 30us/step - loss: 0.2331 - accuracy: 0.9157 - val_loss: 0.2345 - val_accuracy: 0.9150\b\b\b\b\b\b\b\b\b\b\b\b\b\b\b\b\b\b\b\b\b\b\b\b\b\b\b\b\b\b\b\b\b\b\b\b\b\b\b\b\b\b\b\b\n",
            "\n",
            "Epoch 00022: val_accuracy improved from 0.91385 to 0.91502, saving model to w.hdf5\n",
            "Epoch 23/50\n",
            "452889/452889 [==============================] - 13s 30us/step - loss: 0.2312 - accuracy: 0.9164 - val_loss: 0.2330 - val_accuracy: 0.9157\b\b\b\b\b\b\b\b\b\b\b\b\b\b\b\b\b\b\b\b\b\b\b\b\b\b\b\b\b\b\b\b\b\b\b\b\b\b\b\b\b\b\b\b\n",
            "\n",
            "Epoch 00023: val_accuracy improved from 0.91502 to 0.91573, saving model to w.hdf5\n",
            "Epoch 24/50\n",
            "452889/452889 [==============================] - 13s 30us/step - loss: 0.2293 - accuracy: 0.9171 - val_loss: 0.2322 - val_accuracy: 0.9161\b\b\b\b\b\b\b\b\b\b\b\b\b\b\b\b\b\b\b\b\b\b\b\b\b\b\b\b\b\b\b\b\b\b\b\b\b\b\b\b\b\b\b\b\n",
            "\n",
            "Epoch 00024: val_accuracy improved from 0.91573 to 0.91605, saving model to w.hdf5\n",
            "Epoch 25/50\n",
            "452889/452889 [==============================] - 14s 30us/step - loss: 0.2274 - accuracy: 0.9178 - val_loss: 0.2293 - val_accuracy: 0.9171\b\b\b\b\b\b\b\b\b\b\b\b\b\b\b\b\b\b\b\b\b\b\b\b\b\b\b\b\b\b\b\b\b\b\b\b\b\b\b\b\b\b\b\b\n",
            "\n",
            "Epoch 00025: val_accuracy improved from 0.91605 to 0.91707, saving model to w.hdf5\n",
            "Epoch 26/50\n",
            "452889/452889 [==============================] - 14s 30us/step - loss: 0.2256 - accuracy: 0.9185 - val_loss: 0.2276 - val_accuracy: 0.9177\b\b\b\b\b\b\b\b\b\b\b\b\b\b\b\b\b\b\b\b\b\b\b\b\b\b\b\b\b\b\b\b\b\b\b\b\b\b\b\b\b\b\b\b\n",
            "\n",
            "Epoch 00026: val_accuracy improved from 0.91707 to 0.91767, saving model to w.hdf5\n",
            "Epoch 27/50\n",
            "452889/452889 [==============================] - 13s 30us/step - loss: 0.2238 - accuracy: 0.9192 - val_loss: 0.2278 - val_accuracy: 0.9176\b\b\b\b\b\b\b\b\b\b\b\b\b\b\b\b\b\b\b\b\b\b\b\b\b\b\b\b\b\b\b\b\b\b\b\b\b\b\b\b\b\b\b\b\n",
            "\n",
            "Epoch 00027: val_accuracy did not improve from 0.91767\n",
            "Epoch 28/50\n",
            "452889/452889 [==============================] - 13s 30us/step - loss: 0.2224 - accuracy: 0.9197 - val_loss: 0.2254 - val_accuracy: 0.9185\b\b\b\b\b\b\b\b\b\b\b\b\b\b\b\b\b\b\b\b\b\b\b\b\b\b\b\b\b\b\b\b\b\b\b\b\b\b\b\b\b\b\b\b\n",
            "\n",
            "Epoch 00028: val_accuracy improved from 0.91767 to 0.91847, saving model to w.hdf5\n",
            "Epoch 29/50\n",
            "452889/452889 [==============================] - 13s 30us/step - loss: 0.2209 - accuracy: 0.9202 - val_loss: 0.2250 - val_accuracy: 0.9187\b\b\b\b\b\b\b\b\b\b\b\b\b\b\b\b\b\b\b\b\b\b\b\b\b\b\b\b\b\b\b\b\b\b\b\b\b\b\b\b\b\b\b\b\n",
            "\n",
            "Epoch 00029: val_accuracy improved from 0.91847 to 0.91873, saving model to w.hdf5\n",
            "Epoch 30/50\n",
            "452889/452889 [==============================] - 14s 30us/step - loss: 0.2195 - accuracy: 0.9208 - val_loss: 0.2239 - val_accuracy: 0.9190\b\b\b\b\b\b\b\b\b\b\b\b\b\b\b\b\b\b\b\b\b\b\b\b\b\b\b\b\b\b\b\b\b\b\b\b\b\b\b\b\b\b\b\b\n",
            "\n",
            "Epoch 00030: val_accuracy improved from 0.91873 to 0.91898, saving model to w.hdf5\n",
            "Epoch 31/50\n",
            "452889/452889 [==============================] - 14s 30us/step - loss: 0.2182 - accuracy: 0.9213 - val_loss: 0.2219 - val_accuracy: 0.9197\b\b\b\b\b\b\b\b\b\b\b\b\b\b\b\b\b\b\b\b\b\b\b\b\b\b\b\b\b\b\b\b\b\b\b\b\b\b\b\b\b\b\b\b\n",
            "\n",
            "Epoch 00031: val_accuracy improved from 0.91898 to 0.91970, saving model to w.hdf5\n",
            "Epoch 32/50\n",
            "452889/452889 [==============================] - 13s 30us/step - loss: 0.2169 - accuracy: 0.9217 - val_loss: 0.2222 - val_accuracy: 0.9197\b\b\b\b\b\b\b\b\b\b\b\b\b\b\b\b\b\b\b\b\b\b\b\b\b\b\b\b\b\b\b\b\b\b\b\b\b\b\b\b\b\b\b\b\n",
            "\n",
            "Epoch 00032: val_accuracy improved from 0.91970 to 0.91973, saving model to w.hdf5\n",
            "Epoch 33/50\n",
            "452889/452889 [==============================] - 14s 30us/step - loss: 0.2157 - accuracy: 0.9222 - val_loss: 0.2207 - val_accuracy: 0.9201\b\b\b\b\b\b\b\b\b\b\b\b\b\b\b\b\b\b\b\b\b\b\b\b\b\b\b\b\b\b\b\b\b\b\b\b\b\b\b\b\b\b\b\b\n",
            "\n",
            "Epoch 00033: val_accuracy improved from 0.91973 to 0.92010, saving model to w.hdf5\n",
            "Epoch 34/50\n",
            "452889/452889 [==============================] - 14s 30us/step - loss: 0.2146 - accuracy: 0.9226 - val_loss: 0.2199 - val_accuracy: 0.9206\b\b\b\b\b\b\b\b\b\b\b\b\b\b\b\b\b\b\b\b\b\b\b\b\b\b\b\b\b\b\b\b\b\b\b\b\b\b\b\b\b\b\b\b\n",
            "\n",
            "Epoch 00034: val_accuracy improved from 0.92010 to 0.92055, saving model to w.hdf5\n",
            "Epoch 35/50\n",
            "452889/452889 [==============================] - 14s 30us/step - loss: 0.2135 - accuracy: 0.9230 - val_loss: 0.2218 - val_accuracy: 0.9201\b\b\b\b\b\b\b\b\b\b\b\b\b\b\b\b\b\b\b\b\b\b\b\b\b\b\b\b\b\b\b\b\b\b\b\b\b\b\b\b\b\b\b\b\n",
            "\n",
            "Epoch 00035: val_accuracy did not improve from 0.92055\n",
            "Epoch 36/50\n",
            "452889/452889 [==============================] - 14s 30us/step - loss: 0.2124 - accuracy: 0.9234 - val_loss: 0.2187 - val_accuracy: 0.9208\b\b\b\b\b\b\b\b\b\b\b\b\b\b\b\b\b\b\b\b\b\b\b\b\b\b\b\b\b\b\b\b\b\b\b\b\b\b\b\b\b\b\b\b\n",
            "\n",
            "Epoch 00036: val_accuracy improved from 0.92055 to 0.92083, saving model to w.hdf5\n",
            "Epoch 37/50\n",
            "452889/452889 [==============================] - 13s 30us/step - loss: 0.2115 - accuracy: 0.9238 - val_loss: 0.2182 - val_accuracy: 0.9211\b\b\b\b\b\b\b\b\b\b\b\b\b\b\b\b\b\b\b\b\b\b\b\b\b\b\b\b\b\b\b\b\b\b\b\b\b\b\b\b\b\b\b\b\n",
            "\n",
            "Epoch 00037: val_accuracy improved from 0.92083 to 0.92108, saving model to w.hdf5\n",
            "Epoch 38/50\n",
            "452889/452889 [==============================] - 13s 30us/step - loss: 0.2105 - accuracy: 0.9241 - val_loss: 0.2176 - val_accuracy: 0.9213\b\b\b\b\b\b\b\b\b\b\b\b\b\b\b\b\b\b\b\b\b\b\b\b\b\b\b\b\b\b\b\b\b\b\b\b\b\b\b\b\b\b\b\b\n",
            "\n",
            "Epoch 00038: val_accuracy improved from 0.92108 to 0.92127, saving model to w.hdf5\n",
            "Epoch 39/50\n",
            "452889/452889 [==============================] - 14s 30us/step - loss: 0.2096 - accuracy: 0.9245 - val_loss: 0.2174 - val_accuracy: 0.9213\b\b\b\b\b\b\b\b\b\b\b\b\b\b\b\b\b\b\b\b\b\b\b\b\b\b\b\b\b\b\b\b\b\b\b\b\b\b\b\b\b\b\b\b\n",
            "\n",
            "Epoch 00039: val_accuracy improved from 0.92127 to 0.92135, saving model to w.hdf5\n",
            "Epoch 40/50\n",
            "452889/452889 [==============================] - 13s 30us/step - loss: 0.2085 - accuracy: 0.9249 - val_loss: 0.2159 - val_accuracy: 0.9219\b\b\b\b\b\b\b\b\b\b\b\b\b\b\b\b\b\b\b\b\b\b\b\b\b\b\b\b\b\b\b\b\b\b\b\b\b\b\b\b\b\b\b\b\n",
            "\n",
            "Epoch 00040: val_accuracy improved from 0.92135 to 0.92193, saving model to w.hdf5\n",
            "Epoch 41/50\n",
            "452889/452889 [==============================] - 14s 30us/step - loss: 0.2077 - accuracy: 0.9252 - val_loss: 0.2165 - val_accuracy: 0.9218\b\b\b\b\b\b\b\b\b\b\b\b\b\b\b\b\b\b\b\b\b\b\b\b\b\b\b\b\b\b\b\b\b\b\b\b\b\b\b\b\b\b\b\b\n",
            "\n",
            "Epoch 00041: val_accuracy did not improve from 0.92193\n",
            "Epoch 42/50\n",
            "452889/452889 [==============================] - 14s 30us/step - loss: 0.2069 - accuracy: 0.9255 - val_loss: 0.2167 - val_accuracy: 0.9218\b\b\b\b\b\b\b\b\b\b\b\b\b\b\b\b\b\b\b\b\b\b\b\b\b\b\b\b\b\b\b\b\b\b\b\b\b\b\b\b\b\b\b\b\n",
            "\n",
            "Epoch 00042: val_accuracy did not improve from 0.92193\n",
            "Epoch 00042: early stopping\n"
          ]
        }
      ],
      "execution_count": 14,
      "metadata": {
        "collapsed": true,
        "jupyter": {
          "source_hidden": false,
          "outputs_hidden": false
        },
        "nteract": {
          "transient": {
            "deleting": false
          }
        },
        "gather": {
          "logged": 1613578803687
        }
      }
    },
    {
      "cell_type": "markdown",
      "source": [
        "Summary of Model 'modelupd'"
      ],
      "metadata": {
        "nteract": {
          "transient": {
            "deleting": false
          }
        }
      }
    },
    {
      "cell_type": "code",
      "source": [
        "modelupd.summary()"
      ],
      "outputs": [
        {
          "output_type": "stream",
          "name": "stdout",
          "text": [
            "Model: \"sequential_3\"\n",
            "_________________________________________________________________\n",
            "Layer (type)                 Output Shape              Param #   \n",
            "=================================================================\n",
            "flatten_3 (Flatten)          (None, 793)               0         \n",
            "_________________________________________________________________\n",
            "dense_12 (Dense)             (None, 200)               158800    \n",
            "_________________________________________________________________\n",
            "dense_13 (Dense)             (None, 150)               30150     \n",
            "_________________________________________________________________\n",
            "dense_14 (Dense)             (None, 100)               15100     \n",
            "_________________________________________________________________\n",
            "dense_15 (Dense)             (None, 50)                5050      \n",
            "_________________________________________________________________\n",
            "dense_16 (Dense)             (None, 25)                1275      \n",
            "_________________________________________________________________\n",
            "dense_17 (Dense)             (None, 10)                260       \n",
            "=================================================================\n",
            "Total params: 210,635\n",
            "Trainable params: 210,635\n",
            "Non-trainable params: 0\n",
            "_________________________________________________________________\n"
          ]
        }
      ],
      "execution_count": 15,
      "metadata": {
        "collapsed": true,
        "jupyter": {
          "source_hidden": false,
          "outputs_hidden": false
        },
        "nteract": {
          "transient": {
            "deleting": false
          }
        },
        "gather": {
          "logged": 1613578931977
        }
      }
    },
    {
      "cell_type": "markdown",
      "source": [
        "Model Accuracy Graph of 'modelupd'"
      ],
      "metadata": {
        "nteract": {
          "transient": {
            "deleting": false
          }
        }
      }
    },
    {
      "cell_type": "code",
      "source": [
        "import matplotlib.pyplot as plt\r\n",
        "plt.style.use('ggplot')\r\n",
        "def plot_history(history):\r\n",
        "    acc = history.history['accuracy']\r\n",
        "    val_acc = history.history['val_accuracy']\r\n",
        "    loss = history.history['loss']\r\n",
        "    val_loss = history.history['val_loss']\r\n",
        "    x = range(1, len(acc) + 1)\r\n",
        "    plt.figure(figsize=(12, 5))\r\n",
        "    plt.subplot(1, 2, 1)\r\n",
        "    plt.plot(x, acc, 'b', label='Training acc')\r\n",
        "    plt.plot(x, val_acc, 'r', label='Validation acc')\r\n",
        "    plt.title('Training and validation accuracy')\r\n",
        "    plt.legend()\r\n",
        "    plt.subplot(1, 2, 2)\r\n",
        "    plt.plot(x, loss, 'b', label='Training loss')\r\n",
        "    plt.plot(x, val_loss, 'r', label='Validation loss')\r\n",
        "    plt.title('Training and validation loss')\r\n",
        "    plt.legend()\r\n",
        "\r\n",
        "plot_history(history)"
      ],
      "outputs": [
        {
          "output_type": "display_data",
          "data": {
            "text/plain": "<Figure size 864x360 with 2 Axes>",
            "image/png": "[encoded data removed]"
          },
          "metadata": {}
        }
      ],
      "execution_count": 16,
      "metadata": {
        "collapsed": true,
        "jupyter": {
          "source_hidden": false,
          "outputs_hidden": false
        },
        "nteract": {
          "transient": {
            "deleting": false
          }
        },
        "gather": {
          "logged": 1613578939454
        }
      }
    },
    {
      "cell_type": "markdown",
      "source": [
        "Saving the Model and Input Data(Non-Targeting Data)"
      ],
      "metadata": {
        "nteract": {
          "transient": {
            "deleting": false
          }
        }
      }
    },
    {
      "cell_type": "code",
      "source": [
        "# Save your model\r\n",
        "model_json = modelupd.to_json()\r\n",
        "with open(\"modelupd.json\", \"w\") as json_file:\r\n",
        "    json_file.write(model_json)\r\n",
        "# serialize weights to HDF5\r\n",
        "modelupd.save_weights(\"modelupd.h5\")\r\n",
        "print(\"Saved model to disk\")"
      ],
      "outputs": [
        {
          "output_type": "stream",
          "name": "stdout",
          "text": [
            "Saved model to disk\n"
          ]
        }
      ],
      "execution_count": 17,
      "metadata": {
        "collapsed": true,
        "jupyter": {
          "source_hidden": false,
          "outputs_hidden": false
        },
        "nteract": {
          "transient": {
            "deleting": false
          }
        },
        "gather": {
          "logged": 1613578942723
        }
      }
    },
    {
      "cell_type": "markdown",
      "source": [
        "Defining text2list function"
      ],
      "metadata": {
        "nteract": {
          "transient": {
            "deleting": false
          }
        }
      }
    },
    {
      "cell_type": "code",
      "source": [
        "def text2list(text):\r\n",
        "  import string\r\n",
        "  import re\r\n",
        "  test_str=text\r\n",
        "  test_str = ''.join([i for i in test_str if not i.isdigit()]) \r\n",
        "  test_str=test_str.lower()\r\n",
        "  punc = '''!()-[]{};:'\"\\,<>./¿?@#$%^&*_~+-=|`'''\r\n",
        "\r\n",
        "  for ele in test_str:\r\n",
        "    if ele in punc:\r\n",
        "      test_str = test_str.replace(ele, \"\")  \r\n",
        "\r\n",
        "  test_str_split=re.split('\\s+', test_str)\r\n",
        "  \r\n",
        "  if (test_str_split[0]==''):\r\n",
        "    test_str_split.remove('')\r\n",
        "  if (test_str_split[len(test_str_split)-1]==''):\r\n",
        "    test_str_split.remove('')\r\n",
        "\r\n",
        "  return test_str_split"
      ],
      "outputs": [],
      "execution_count": 18,
      "metadata": {
        "collapsed": true,
        "jupyter": {
          "source_hidden": false,
          "outputs_hidden": false
        },
        "nteract": {
          "transient": {
            "deleting": false
          }
        },
        "gather": {
          "logged": 1613578945156
        }
      }
    },
    {
      "cell_type": "markdown",
      "source": [
        "Loading the Model and defining lang_detect in percentage Distribution"
      ],
      "metadata": {
        "nteract": {
          "transient": {
            "deleting": false
          }
        }
      }
    },
    {
      "cell_type": "code",
      "source": [
        "import pickle\r\n",
        "from keras.models import model_from_json\r\n",
        "def lang_detect(text):\r\n",
        "    global loaded_model\r\n",
        "    json_file = open('modelupd.json', 'r')\r\n",
        "    loaded_model_json = json_file.read()\r\n",
        "    json_file.close()\r\n",
        "    loaded_model = model_from_json(loaded_model_json)\r\n",
        "    # load weights into new model\r\n",
        "    loaded_model.load_weights(\"modelupd.h5\")\r\n",
        "    print(\"Loaded model from disk\")\r\n",
        "    list_of_word=text2list(text)\r\n",
        "    k=[]\r\n",
        "    for word in list_of_word:\r\n",
        "        k.append(one_hot_encode(process(word)))\r\n",
        "        ans=loaded_model.predict(np.array(k))\r\n",
        "    print('Predication of language belonging of each unique word from a sentence\\n')\r\n",
        "    for q in range(len(list_of_word)):\r\n",
        "        eng=0\r\n",
        "        dan=0\r\n",
        "        dut=0\r\n",
        "        fre=0\r\n",
        "        ger=0\r\n",
        "        ita=0\r\n",
        "        pol=0\r\n",
        "        por=0\r\n",
        "        spa=0\r\n",
        "        swe=0\r\n",
        "        eng+=ans[q][0]\r\n",
        "        dan+=ans[q][1]\r\n",
        "        dut+=ans[q][2]\r\n",
        "        fre+=ans[q][3]\r\n",
        "        ger+=ans[q][4]\r\n",
        "        ita+=ans[q][5]\r\n",
        "        pol+=ans[q][6]\r\n",
        "        por+=ans[q][7]\r\n",
        "        spa+=ans[q][8]\r\n",
        "        swe+=ans[q][9]\r\n",
        "        each_word=list_of_word[q]\r\n",
        "        print(each_word)\r\n",
        "        report = \"Percentage Distribution\\nEnglish:-{}\\nDanish:-{}\\nDutch:-{}\\nFrench:-{}\\nGerman:-{}\\nItalian:-{}\\nPolish:-{}\\nPortuguese:-{}\\nSpanish:-{}\\nSwedish:-{}\\n\".format(eng,dan,dut,fre,ger,ita,pol,por,spa,swe)\r\n",
        "        print(report)"
      ],
      "outputs": [],
      "execution_count": 19,
      "metadata": {
        "collapsed": true,
        "jupyter": {
          "source_hidden": false,
          "outputs_hidden": false
        },
        "nteract": {
          "transient": {
            "deleting": false
          }
        },
        "gather": {
          "logged": 1613578947799
        }
      }
    },
    {
      "cell_type": "markdown",
      "source": [
        "Running the lang_detect function as trailer"
      ],
      "metadata": {
        "nteract": {
          "transient": {
            "deleting": false
          }
        }
      }
    },
    {
      "cell_type": "code",
      "source": [
        "lang_detect('freshdirect')\r\n",
        "lang_detect('hello @amigo , m+y name is 007. wie gehts? ¿necesitas ayuda?')"
      ],
      "outputs": [
        {
          "output_type": "stream",
          "name": "stdout",
          "text": [
            "Loaded model from disk\n",
            "Predication of language belonging of each unique word from a sentence\n",
            "\n",
            "freshdirect\n",
            "Percentage Distribution\n",
            "English:-0.7484108805656433\n",
            "Danish:-0.03507637232542038\n",
            "Dutch:-0.032780054956674576\n",
            "French:-0.046740029007196426\n",
            "German:-0.033614642918109894\n",
            "Italian:-0.025741606950759888\n",
            "Polish:-0.00715824868530035\n",
            "Portuguese:-0.024204958230257034\n",
            "Spanish:-0.018094036728143692\n",
            "Swedish:-0.028179189190268517\n",
            "\n",
            "Loaded model from disk\n",
            "Predication of language belonging of each unique word from a sentence\n",
            "\n",
            "hello\n",
            "Percentage Distribution\n",
            "English:-0.12951786816120148\n",
            "Danish:-0.09788140654563904\n",
            "Dutch:-0.13363142311573029\n",
            "French:-0.15527278184890747\n",
            "German:-0.07904347777366638\n",
            "Italian:-0.07798603177070618\n",
            "Polish:-0.02620766870677471\n",
            "Portuguese:-0.07628834992647171\n",
            "Spanish:-0.11144775152206421\n",
            "Swedish:-0.1127232015132904\n",
            "\n",
            "amigo\n",
            "Percentage Distribution\n",
            "English:-0.06619849056005478\n",
            "Danish:-0.01972394809126854\n",
            "Dutch:-0.04005464166402817\n",
            "French:-0.06829186528921127\n",
            "German:-0.02299066074192524\n",
            "Italian:-0.21039195358753204\n",
            "Polish:-0.01786581426858902\n",
            "Portuguese:-0.27543503046035767\n",
            "Spanish:-0.24893788993358612\n",
            "Swedish:-0.030109703540802002\n",
            "\n",
            "my\n",
            "Percentage Distribution\n",
            "English:-0.11456993967294693\n",
            "Danish:-0.07091296464204788\n",
            "Dutch:-0.07306450605392456\n",
            "French:-0.11038793623447418\n",
            "German:-0.053356386721134186\n",
            "Italian:-0.05574280396103859\n",
            "Polish:-0.3204704523086548\n",
            "Portuguese:-0.05273978412151337\n",
            "Spanish:-0.07224728912115097\n",
            "Swedish:-0.07650798559188843\n",
            "\n",
            "name\n",
            "Percentage Distribution\n",
            "English:-0.11125461012125015\n",
            "Danish:-0.09544730931520462\n",
            "Dutch:-0.11968723684549332\n",
            "French:-0.13458804786205292\n",
            "German:-0.07997322827577591\n",
            "Italian:-0.07806076109409332\n",
            "Polish:-0.13443118333816528\n",
            "Portuguese:-0.09290336817502975\n",
            "Spanish:-0.09243427962064743\n",
            "Swedish:-0.06122001260519028\n",
            "\n",
            "is\n",
            "Percentage Distribution\n",
            "English:-0.12815874814987183\n",
            "Danish:-0.09114976972341537\n",
            "Dutch:-0.09443670511245728\n",
            "French:-0.12497738748788834\n",
            "German:-0.08926228433847427\n",
            "Italian:-0.09935186058282852\n",
            "Polish:-0.07254781574010849\n",
            "Portuguese:-0.10544362664222717\n",
            "Spanish:-0.11427643895149231\n",
            "Swedish:-0.0803954228758812\n",
            "\n",
            "wie\n",
            "Percentage Distribution\n",
            "English:-0.1046644076704979\n",
            "Danish:-0.04525958374142647\n",
            "Dutch:-0.111956387758255\n",
            "French:-0.06015676259994507\n",
            "German:-0.0726669654250145\n",
            "Italian:-0.027173606678843498\n",
            "Polish:-0.4764620363712311\n",
            "Portuguese:-0.021098772063851357\n",
            "Spanish:-0.042899541556835175\n",
            "Swedish:-0.03766191750764847\n",
            "\n",
            "gehts\n",
            "Percentage Distribution\n",
            "English:-0.03106810338795185\n",
            "Danish:-0.017425747588276863\n",
            "Dutch:-0.10957354307174683\n",
            "French:-0.014855863526463509\n",
            "German:-0.7734616994857788\n",
            "Italian:-0.010054110549390316\n",
            "Polish:-0.0012217160547152162\n",
            "Portuguese:-0.005532063543796539\n",
            "Spanish:-0.004194651730358601\n",
            "Swedish:-0.032612551003694534\n",
            "\n",
            "necesitas\n",
            "Percentage Distribution\n",
            "English:-0.004073151387274265\n",
            "Danish:-0.00034872081596404314\n",
            "Dutch:-0.0014603189192712307\n",
            "French:-0.002830970799550414\n",
            "German:-0.0004831968108192086\n",
            "Italian:-0.005925710313022137\n",
            "Polish:-0.00021184064098633826\n",
            "Portuguese:-0.34386274218559265\n",
            "Spanish:-0.6398965120315552\n",
            "Swedish:-0.0009068869985640049\n",
            "\n",
            "ayuda\n",
            "Percentage Distribution\n",
            "English:-0.09225790202617645\n",
            "Danish:-0.033178023993968964\n",
            "Dutch:-0.05643428862094879\n",
            "French:-0.09083610028028488\n",
            "German:-0.028753947466611862\n",
            "Italian:-0.06566882878541946\n",
            "Polish:-0.13780376315116882\n",
            "Portuguese:-0.2207644134759903\n",
            "Spanish:-0.2169448435306549\n",
            "Swedish:-0.05735792592167854\n",
            "\n"
          ]
        }
      ],
      "execution_count": 20,
      "metadata": {
        "collapsed": true,
        "jupyter": {
          "source_hidden": false,
          "outputs_hidden": false
        },
        "nteract": {
          "transient": {
            "deleting": false
          }
        },
        "gather": {
          "logged": 1613578952782
        }
      }
    }
  ],
  "metadata": {
    "kernelspec": {
      "name": "python3-azureml",
      "language": "python",
      "display_name": "Python 3.6 - AzureML"
    },
    "language_info": {
      "name": "python",
      "version": "3.6.9",
      "mimetype": "text/x-python",
      "codemirror_mode": {
        "name": "ipython",
        "version": 3
      },
      "pygments_lexer": "ipython3",
      "nbconvert_exporter": "python",
      "file_extension": ".py"
    },
    "kernel_info": {
      "name": "python3-azureml"
    },
    "nteract": {
      "version": "nteract-front-end@1.0.0"
    }
  },
  "nbformat": 4,
  "nbformat_minor": 2
}